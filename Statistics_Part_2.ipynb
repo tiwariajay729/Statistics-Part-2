{
  "nbformat": 4,
  "nbformat_minor": 0,
  "metadata": {
    "colab": {
      "provenance": []
    },
    "kernelspec": {
      "name": "python3",
      "display_name": "Python 3"
    },
    "language_info": {
      "name": "python"
    }
  },
  "cells": [
    {
      "cell_type": "markdown",
      "source": [
        "Q1 - What is hypothesis testing in statistics?"
      ],
      "metadata": {
        "id": "Ctr1yUCsvGHF"
      }
    },
    {
      "cell_type": "markdown",
      "source": [
        "Ans 1 - Hypothesis testing in statistics is a method used to make decisions or inferences about a population based on sample data. It's like a formal way of asking, \"Is what we're seeing in our data just random chance, or is there actually something going on?\""
      ],
      "metadata": {
        "id": "YmyM8vuXvVO6"
      }
    },
    {
      "cell_type": "markdown",
      "source": [
        "Q2 - What is the null hypothesis, and how does it differ from the alternative hypothesis?"
      ],
      "metadata": {
        "id": "kHtbb9zNvnwu"
      }
    },
    {
      "cell_type": "markdown",
      "source": [
        "Ans 2 - The null hypothesis and alternative hypothesis are fundamental concepts in statistical hypothesis testing. Here's a breakdown:\n",
        "\n",
        "Null Hypothesis (H₀)\n",
        "The null hypothesis is the default or starting assumption.\n",
        "\n",
        "It usually states that there is no effect, no difference, or nothing unusual is happening.\n",
        "\n",
        "In other words, it's what you're trying to test against.\n",
        "\n",
        "Examples:\n",
        "\n",
        "A new drug has no effect on patients compared to a placebo.\n",
        "\n",
        "The average weight of apples in an orchard is exactly 150g.\n",
        "\n",
        "A coin is fair (i.e., P(heads) = 0.5).\n",
        "\n",
        "Alternative Hypothesis (H₁ or Ha)\n",
        "The alternative hypothesis is what you propose if you think the null hypothesis is wrong.\n",
        "\n",
        "It states that there is an effect, a difference, or something significant is happening.\n",
        "\n",
        "Examples:\n",
        "\n",
        "The new drug does have an effect on patients.\n",
        "\n",
        "The average weight of apples is not 150g.\n",
        "\n",
        "The coin is not fair (e.g., biased toward heads or tails)."
      ],
      "metadata": {
        "id": "-_dl1KuRvpVO"
      }
    },
    {
      "cell_type": "markdown",
      "source": [
        "Q3 -  What is the significance level in hypothesis testing, and why is it important?"
      ],
      "metadata": {
        "id": "5tkyliEgvVrt"
      }
    },
    {
      "cell_type": "markdown",
      "source": [
        "Ans 3 - significance level is super important in hypothesis testing. Here's a clear breakdown:\n",
        "\n",
        "What Is the Significance Level?\n",
        "The significance level, often denoted by α (alpha), is the threshold you set for deciding how much evidence you need to reject the null hypothesis.\n",
        "\n",
        "It represents the probability of making a Type I error — which means rejecting the null hypothesis when it’s actually true."
      ],
      "metadata": {
        "id": "9rS3s-0lvZvt"
      }
    },
    {
      "cell_type": "markdown",
      "source": [
        "Q4 -  What does a P-value represent in hypothesis testing?"
      ],
      "metadata": {
        "id": "80b2qLvEvaL4"
      }
    },
    {
      "cell_type": "markdown",
      "source": [
        "Ans 4 - In hypothesis testing, the P-value (short for probability value) represents the probability of obtaining results at least as extreme as the observed results, assuming that the null hypothesis is true.\n",
        "\n",
        "Here's a breakdown of what that means:\n",
        "\n",
        "Null hypothesis (H₀): This is usually a statement of \"no effect\" or \"no difference.\" It's the default assumption you're testing against.\n",
        "\n",
        "P-value: Tells you how likely it is to see the data you observed (or something more extreme) if the null hypothesis is actually true.\n",
        "\n",
        "How to interpret it:\n",
        "Small P-value (typically ≤ 0.05): The observed data is unlikely under the null hypothesis. → You reject the null hypothesis.\n",
        "\n",
        "Large P-value (> 0.05): The observed data is consistent with the null hypothesis. → You fail to reject the null hypothesis."
      ],
      "metadata": {
        "id": "lv860MM1vw6t"
      }
    },
    {
      "cell_type": "markdown",
      "source": [
        "Q5 -  How do you interpret the P-value in hypothesis testing?"
      ],
      "metadata": {
        "id": "Uz8d26oYvxYG"
      }
    },
    {
      "cell_type": "markdown",
      "source": [
        "Ans 5 - The P-value in hypothesis testing helps you determine how likely your sample results are, assuming the null hypothesis is true. Here's how to interpret it:\n",
        "\n",
        "It’s the probability of obtaining a test statistic (or more extreme) if the null hypothesis is true.\n",
        "\n",
        "It helps you assess the strength of the evidence against the null hypothesis."
      ],
      "metadata": {
        "id": "YhiWsTEAv1J0"
      }
    },
    {
      "cell_type": "markdown",
      "source": [
        "Q6 -  What are Type 1 and Type 2 errors in hypothesis testing?"
      ],
      "metadata": {
        "id": "t22wNJ9Iv1n-"
      }
    },
    {
      "cell_type": "markdown",
      "source": [
        "Ans 6 - In hypothesis testing, Type 1 and Type 2 errors refer to two different kinds of incorrect conclusions that can be made when evaluating a statistical hypothesis:\n",
        "\n",
        "Type 1 Error (False Positive)\n",
        "Definition: Occurs when the null hypothesis (H₀) is rejected, even though it is actually true.\n",
        "\n",
        "In other words: You think there's an effect or difference, but there really isn't.\n",
        "\n",
        "Example: A medical test indicates a person has a disease, but they’re actually healthy.\n",
        "\n",
        "Probability of Type 1 Error: Denoted by α (alpha), often set at 0.05 or 5%.\n",
        "\n",
        "Type 2 Error (False Negative)\n",
        "Definition: Occurs when the null hypothesis (H₀) is not rejected, even though it is actually false.\n",
        "\n",
        "In other words: You miss a real effect or difference.\n",
        "\n",
        "Example: A medical test fails to detect a disease in someone who actually has it.\n",
        "\n",
        "Probability of Type 2 Error: Denoted by β (beta).\n",
        "\n",
        "Power of a test = 1 - β (the probability of correctly rejecting a false null hypothesis)."
      ],
      "metadata": {
        "id": "F84QrJcUv-x5"
      }
    },
    {
      "cell_type": "markdown",
      "source": [
        "Q7 - What is the difference between a one-tailed and a two-tailed test in hypothesis testing?"
      ],
      "metadata": {
        "id": "lj_3gHErv_Lr"
      }
    },
    {
      "cell_type": "markdown",
      "source": [
        "Ans 7 - The difference between a one-tailed and a two-tailed test in hypothesis testing lies in what you're trying to detect in your data — whether the effect or difference you're testing for could go in one direction or either direction.\n",
        "\n",
        "One-Tailed Test\n",
        "A one-tailed test checks for an effect in only one direction.\n",
        "\n",
        "You're asking: \"Is the mean greater than or less than some value?\"\n",
        "\n",
        "Example: You want to test if a new drug increases recovery speed (but not decreases it).\n",
        "\n",
        "Hypotheses:\n",
        "\n",
        "Null hypothesis (H₀): μ = μ₀\n",
        "\n",
        "Alternative hypothesis (H₁): μ > μ₀ (or μ < μ₀ depending on the direction)\n",
        "\n",
        "Use when you're only interested in one specific direction of change.\n",
        "\n",
        "Two-Tailed Test\n",
        "A two-tailed test checks for an effect in either direction.\n",
        "\n",
        "You're asking: \"Is the mean different (either higher or lower) from some value?\"\n",
        "\n",
        "Example: You want to test if a new teaching method has any effect on scores — either better or worse.\n",
        "\n",
        "Hypotheses:\n",
        "\n",
        "Null hypothesis (H₀): μ = μ₀\n",
        "\n",
        "Alternative hypothesis (H₁): μ ≠ μ₀\n",
        "\n",
        "Use when you're interested in any change, not just one specific direction.\n",
        "\n",
        "Key Difference:\n",
        "One-tailed test → looks only on one side of the distribution.\n",
        "\n",
        "Two-tailed test → splits the significance level (α) between both sides of the distribution."
      ],
      "metadata": {
        "id": "ObP6t_kOwQGM"
      }
    },
    {
      "cell_type": "markdown",
      "source": [
        "Q8 -  What is the Z-test, and when is it used in hypothesis testing?"
      ],
      "metadata": {
        "id": "INZWcvOiwQrZ"
      }
    },
    {
      "cell_type": "markdown",
      "source": [
        "Ans  8 - The Z-test is a type of statistical hypothesis test used to determine whether there is a significant difference between sample data and a population parameter (like the mean or proportion), or between the means of two samples, assuming the data follows a normal distribution and certain conditions are met.\n",
        "\n",
        "When to Use the Z-test:\n",
        "Known Population Standard Deviation (σ):\n",
        "\n",
        "You use a Z-test when the population standard deviation is known. If it's unknown, you'd typically use a T-test instead.\n",
        "\n",
        "Large Sample Size (n ≥ 30):\n",
        "\n",
        "For smaller sample sizes, especially when σ is unknown, the T-test is preferred because it accounts for more uncertainty in smaller samples.\n",
        "\n",
        "Normal Distribution or Approximate Normality:\n",
        "\n",
        "The data should be normally distributed, or the sample size should be large enough for the Central Limit Theorem to apply.\n",
        "\n",
        "Types of Z-tests:\n",
        "One-sample Z-test for means:\n",
        "\n",
        "Compares the sample mean to a known population mean.\n",
        "\n",
        "Example: Testing if the average height of a group differs from the national average.\n",
        "\n",
        "Two-sample Z-test for means:\n",
        "\n",
        "Compares the means of two independent groups.\n",
        "\n",
        "Example: Testing if two different drugs have different average effects.\n",
        "\n",
        "Z-test for proportions:\n",
        "\n",
        "Used when comparing sample proportion to a population proportion or comparing two proportions.\n",
        "\n",
        "Example: Comparing the proportion of voters favoring a candidate between two cities."
      ],
      "metadata": {
        "id": "yOJMZ8mlwVVJ"
      }
    },
    {
      "cell_type": "markdown",
      "source": [
        "Q9 -  How do you calculate the Z-score, and what does it represent in hypothesis testing?"
      ],
      "metadata": {
        "id": "T_EzWW9ywV5P"
      }
    },
    {
      "cell_type": "markdown",
      "source": [
        "Ans 9 - What is a Z-score?\n",
        "A Z-score (also called a standard score) tells you how many standard deviations a data point is from the mean of a distribution.\n",
        "\n",
        "How to Calculate the Z-score\n",
        "The formula is:\n",
        "\n",
        "𝑍\n",
        "=\n",
        "𝑋\n",
        "−\n",
        "𝜇\n",
        "𝜎\n",
        "Z=\n",
        "σ\n",
        "X−μ\n",
        "​\n",
        "\n",
        "Where:\n",
        "\n",
        "𝑋\n",
        "X = the value you're evaluating\n",
        "\n",
        "𝜇\n",
        "μ = the population mean\n",
        "\n",
        "𝜎\n",
        "σ = the population standard deviation\n",
        "\n",
        "If you're working with a sample, you’d usually use the sample mean (\n",
        "𝑥\n",
        "ˉ\n",
        "x\n",
        "ˉ\n",
        " ) and sample standard deviation (s) instead.\n",
        "\n",
        "In Hypothesis Testing\n",
        "In hypothesis testing, the Z-score helps determine how unusual your sample result is under the assumption that the null hypothesis is true.\n",
        "\n",
        "You typically:\n",
        "\n",
        "Set up your null (\n",
        "𝐻\n",
        "0\n",
        "H\n",
        "0\n",
        "​\n",
        " ) and alternative (\n",
        "𝐻\n",
        "𝑎\n",
        "H\n",
        "a\n",
        "​\n",
        " ) hypotheses.\n",
        "\n",
        "Calculate the test statistic (Z-score) for your sample.\n",
        "\n",
        "Compare the Z-score to a critical value from the Z-distribution (based on your significance level\n",
        "𝛼\n",
        "α, like 0.05).\n",
        "\n",
        "Decide whether to:\n",
        "\n",
        "Reject\n",
        "𝐻\n",
        "0\n",
        "H\n",
        "0\n",
        "​\n",
        "  (if the Z-score is in the critical region)\n",
        "\n",
        "Fail to reject\n",
        "𝐻\n",
        "0\n",
        "H\n",
        "0\n",
        "​\n",
        "  (if the Z-score is not extreme enough)\n",
        "\n",
        "Example:\n",
        "Suppose you're testing whether a new drug changes blood pressure, and the mean BP without the drug is 120 mmHg, with a standard deviation of 10. If a patient taking the drug has a BP of 135:\n",
        "\n",
        "𝑍\n",
        "=\n",
        "135\n",
        "−\n",
        "120\n",
        "10\n",
        "=\n",
        "15\n",
        "10\n",
        "=\n",
        "1.5\n",
        "Z=\n",
        "10\n",
        "135−120\n",
        "​\n",
        " =\n",
        "10\n",
        "15\n",
        "​\n",
        " =1.5\n",
        "That Z-score of 1.5 means the BP is 1.5 standard deviations above the mean."
      ],
      "metadata": {
        "id": "2GgXZIBzwaZP"
      }
    },
    {
      "cell_type": "markdown",
      "source": [
        "Q10 -  What is the T-distribution, and when should it be used instead of the normal distribution?"
      ],
      "metadata": {
        "id": "ILhxoUOGwbAz"
      }
    },
    {
      "cell_type": "markdown",
      "source": [
        "Ans 10 - The t-distribution (short for Student's t-distribution) is a probability distribution that’s similar in shape to the normal distribution but has heavier tails. These heavier tails make it more appropriate for situations where there's more uncertainty—especially when dealing with small sample sizes or when the population standard deviation is unknown.\n",
        "\n",
        "Key Characteristics of the t-distribution:\n",
        "Bell-shaped and symmetric like the normal distribution.\n",
        "\n",
        "Has heavier tails (more prone to extreme values).\n",
        "\n",
        "The exact shape depends on the degrees of freedom (df), typically\n",
        "𝑑\n",
        "𝑓\n",
        "=\n",
        "𝑛\n",
        "−\n",
        "1\n",
        "df=n−1, where\n",
        "𝑛\n",
        "n is the sample size.\n",
        "\n",
        "As the sample size increases, the t-distribution approaches the normal distribution.\n",
        "\n",
        "Use the t-distribution when:\n",
        "The sample size is small (usually\n",
        "𝑛\n",
        "<\n",
        "30\n",
        "n<30).\n",
        "\n",
        "The population standard deviation (σ) is unknown.\n",
        "\n",
        "The data is approximately normally distributed, especially for small samples.\n",
        "\n",
        "Use the normal distribution when:\n",
        "The sample size is large (usually\n",
        "𝑛\n",
        "≥\n",
        "30\n",
        "n≥30), thanks to the Central Limit Theorem.\n",
        "\n",
        "The population standard deviation is known.\n",
        "\n",
        "Or when you're dealing with population-level data rather than samples."
      ],
      "metadata": {
        "id": "ueuYdr7-wgVn"
      }
    },
    {
      "cell_type": "markdown",
      "source": [
        "Q11 -  What is the difference between a Z-test and a T-test?"
      ],
      "metadata": {
        "id": "vySCMoZswg6C"
      }
    },
    {
      "cell_type": "markdown",
      "source": [
        "Ans 11 - The main difference between a Z-test and a T-test lies in the type of data and the assumptions about the population you're testing.\n",
        "\n",
        "Here’s a breakdown:\n",
        "\n",
        "1. Type of Data (Population Variance)\n",
        "Z-test: Used when the population variance (or standard deviation) is known or when the sample size is large (typically\n",
        "𝑛\n",
        ">\n",
        "30\n",
        "n>30), and the data is approximately normally distributed. In this case, the standard normal distribution (Z-distribution) is used.\n",
        "\n",
        "T-test: Used when the population variance (or standard deviation) is unknown, and you're estimating it from the sample. This test is more appropriate for smaller sample sizes (typically\n",
        "𝑛\n",
        "<\n",
        "30\n",
        "n<30) and assumes the data is normally distributed.\n",
        "\n",
        "2. Distribution\n",
        "Z-test: Relies on the normal distribution, which assumes that the sample data comes from a population that is normally distributed, and the population variance is known.\n",
        "\n",
        "T-test: Relies on the t-distribution, which is more spread out with thicker tails than the normal distribution. The t-distribution is used when the sample size is small, and the population variance is unknown.\n",
        "\n",
        "3. Sample Size\n",
        "Z-test: Typically used for large sample sizes (greater than 30) because with large samples, the sample mean will be approximately normally distributed regardless of the shape of the population distribution (thanks to the Central Limit Theorem).\n",
        "\n",
        "T-test: Used for small sample sizes (less than 30), as the t-distribution better accounts for the uncertainty of estimating the population variance from a small sample.\n",
        "\n",
        "4. Formula for Standard Error\n",
        "Z-test: Uses the population standard deviation in the calculation of standard error:\n",
        "\n",
        "𝑆\n",
        "𝐸\n",
        "=\n",
        "𝜎\n",
        "𝑛\n",
        "SE=\n",
        "n\n",
        "​\n",
        "\n",
        "σ\n",
        "​\n",
        "\n",
        "where\n",
        "𝜎\n",
        "σ is the population standard deviation and\n",
        "𝑛\n",
        "n is the sample size.\n",
        "\n",
        "T-test: Uses the sample standard deviation in the calculation of standard error:\n",
        "\n",
        "𝑆\n",
        "𝐸\n",
        "=\n",
        "𝑠\n",
        "𝑛\n",
        "SE=\n",
        "n\n",
        "​\n",
        "\n",
        "s\n",
        "​\n",
        "\n",
        "where\n",
        "𝑠\n",
        "s is the sample standard deviation and\n",
        "𝑛\n",
        "n is the sample size.\n",
        "\n",
        "When to Use Each Test:\n",
        "Z-test: When you have a large sample size (more than 30), and you know the population variance (or standard deviation).\n",
        "\n",
        "T-test: When you have a small sample size (less than 30), and you do not know the population variance.\n",
        "\n",
        "Summary:\n",
        "Z-test: Known population variance, large sample size.\n",
        "\n",
        "T-test: Unknown population variance, small sample size."
      ],
      "metadata": {
        "id": "AjDQMCOEwkw4"
      }
    },
    {
      "cell_type": "markdown",
      "source": [
        "Q12 -  What is the T-test, and how is it used in hypothesis testing?"
      ],
      "metadata": {
        "id": "-eQiTauqwlal"
      }
    },
    {
      "cell_type": "markdown",
      "source": [
        "Ans 12 - The T-test is a statistical test used to determine whether there is a significant difference between the means of two groups. It is especially useful when the sample size is small and the population standard deviation is unknown.\n",
        "\n",
        "Purpose of the T-test in Hypothesis Testing\n",
        "It helps test a null hypothesis (H₀) that assumes there is no difference between group means, against an alternative hypothesis (H₁) that assumes there is a difference.\n",
        "\n",
        "Types of T-tests\n",
        "One-sample T-test\n",
        "\n",
        "Compares the mean of a single sample to a known or hypothesized population mean.\n",
        "\n",
        "Example: Is the average test score of a class different from the national average of 75?\n",
        "\n",
        "Independent (two-sample) T-test\n",
        "\n",
        "Compares the means of two independent groups.\n",
        "\n",
        "Example: Do men and women have different average heights?\n",
        "\n",
        "Paired sample T-test\n",
        "\n",
        "Compares means from the same group at different times (before and after treatment, for instance).\n",
        "\n",
        "Example: Did a training program improve employee performance?\n",
        "\n",
        "🧪 T-test Formula\n",
        "For an independent two-sample t-test:\n",
        "\n",
        "𝑡\n",
        "=\n",
        "𝑋\n",
        "ˉ\n",
        "1\n",
        "−\n",
        "𝑋\n",
        "ˉ\n",
        "2\n",
        "𝑠\n",
        "1\n",
        "2\n",
        "𝑛\n",
        "1\n",
        "+\n",
        "𝑠\n",
        "2\n",
        "2\n",
        "𝑛\n",
        "2\n",
        "t=\n",
        "n\n",
        "1\n",
        "​\n",
        "\n",
        "s\n",
        "1\n",
        "2\n",
        "​\n",
        "\n",
        "​\n",
        " +\n",
        "n\n",
        "2\n",
        "​\n",
        "\n",
        "s\n",
        "2\n",
        "2\n",
        "​\n",
        "\n",
        "​\n",
        "\n",
        "​\n",
        "\n",
        "X\n",
        "ˉ\n",
        "  \n",
        "1\n",
        "​\n",
        " −\n",
        "X\n",
        "ˉ\n",
        "  \n",
        "2\n",
        "​\n",
        "\n",
        "​\n",
        "\n",
        "𝑋\n",
        "ˉ\n",
        "1\n",
        ",\n",
        "𝑋\n",
        "ˉ\n",
        "2\n",
        "X\n",
        "ˉ\n",
        "  \n",
        "1\n",
        "​\n",
        " ,\n",
        "X\n",
        "ˉ\n",
        "  \n",
        "2\n",
        "​\n",
        " : sample means\n",
        "\n",
        "𝑠\n",
        "1\n",
        "2\n",
        ",\n",
        "𝑠\n",
        "2\n",
        "2\n",
        "s\n",
        "1\n",
        "2\n",
        "​\n",
        " ,s\n",
        "2\n",
        "2\n",
        "​\n",
        " : sample variances\n",
        "\n",
        "𝑛\n",
        "1\n",
        ",\n",
        "𝑛\n",
        "2\n",
        "n\n",
        "1\n",
        "​\n",
        " ,n\n",
        "2\n",
        "​\n",
        " : sample sizes"
      ],
      "metadata": {
        "id": "Z5wQCpaAwokO"
      }
    },
    {
      "cell_type": "markdown",
      "source": [
        "Q13 -  What is the relationship between Z-test and T-test in hypothesis testing?"
      ],
      "metadata": {
        "id": "xiQ9a74NwpB7"
      }
    },
    {
      "cell_type": "markdown",
      "source": [
        "Ans 13 - The Z-test and T-test are both statistical methods used in hypothesis testing to determine whether there's a significant difference between sample data and a population or between two sample means. Here's how they're related and how they differ:\n",
        "\n",
        "🔗 Relationship Between Z-test and T-test\n",
        "Both are used to test hypotheses about population means.\n",
        "\n",
        "Both rely on comparing a test statistic to a critical value from a distribution (normal or t-distribution).\n",
        "\n",
        "Both involve calculating a standard error and evaluating how far the sample mean is from the hypothesized population mean.\n",
        "\n",
        "Both assume normally distributed data (or approximately normal for large samples due to the Central Limit Theorem)."
      ],
      "metadata": {
        "id": "irHsnHtLwsxN"
      }
    },
    {
      "cell_type": "markdown",
      "source": [
        "Q14 - What is a confidence interval, and how is it used to interpret statistical results?"
      ],
      "metadata": {
        "id": "hHMiRmekwtMz"
      }
    },
    {
      "cell_type": "markdown",
      "source": [
        "Ans 14 - A confidence interval (CI) is a range of values that's used to estimate an unknown population parameter (like a mean or a proportion). It provides a measure of uncertainty around the estimate and helps us understand how precise our estimate is.\n",
        "\n",
        "In Simple Terms:\n",
        "A confidence interval gives you a range in which you're fairly sure the true value lies.\n",
        "\n",
        "Example:\n",
        "Suppose we survey 100 people about how many hours they sleep per night, and we find an average of 7 hours with a 95% confidence interval of (6.7, 7.3).\n",
        "\n",
        "This means we are 95% confident that the true average amount of sleep in the population (not just our sample) is between 6.7 and 7.3 hours.\n",
        "\n",
        "Key Components:\n",
        "Confidence Level (e.g., 95%): This means that if we repeated the same study many times, about 95% of those intervals would contain the true population parameter.\n",
        "\n",
        "Interval Range: Based on the variability in your data and the sample size. Larger samples tend to give narrower (more precise) intervals."
      ],
      "metadata": {
        "id": "qaksczSswxSh"
      }
    },
    {
      "cell_type": "markdown",
      "source": [
        "Q15 -  What is the margin of error, and how does it affect the confidence interval?"
      ],
      "metadata": {
        "id": "xtiHLcXBwxtF"
      }
    },
    {
      "cell_type": "markdown",
      "source": [
        "Ans 15 - The margin of error (MOE) is a statistic that reflects the amount of random sampling error in a survey's results. It tells you how much you can expect your survey results to reflect the true population value.\n",
        "\n",
        "Definition:\n",
        "The margin of error is the range above and below the sample statistic in a confidence interval. It helps quantify uncertainty in an estimate due to the fact that you're working with a sample and not the whole population.\n",
        "\n",
        "How it Affects the Confidence Interval:\n",
        "A confidence interval (CI) is typically expressed as:\n",
        "\n",
        "Sample Statistic ± Margin of Error\n",
        "\n",
        "For example, if you surveyed 1,000 people and found that 60% support a new policy, and your margin of error is ±3%, the 95% confidence interval would be:\n",
        "\n",
        "60% ± 3%, or 57% to 63%\n",
        "\n",
        "This means you're 95% confident that the true population proportion lies within that interval."
      ],
      "metadata": {
        "id": "nyLhko8zw2oB"
      }
    },
    {
      "cell_type": "markdown",
      "source": [
        "Q16 -  How is Bayes' Theorem used in statistics, and what is its significance?"
      ],
      "metadata": {
        "id": "CZJKcyUEw3DY"
      }
    },
    {
      "cell_type": "markdown",
      "source": [
        "Ans 16 - Bayes' Theorem is a fundamental concept in statistics that describes how to update the probability of a hypothesis based on new evidence. It plays a crucial role in both theoretical and applied statistics, especially in the field of Bayesian statistics.\n",
        "\n",
        "Bayes' Theorem Formula\n",
        "𝑃\n",
        "(\n",
        "𝐴\n",
        "∣\n",
        "𝐵\n",
        ")\n",
        "=\n",
        "𝑃\n",
        "(\n",
        "𝐵\n",
        "∣\n",
        "𝐴\n",
        ")\n",
        "⋅\n",
        "𝑃\n",
        "(\n",
        "𝐴\n",
        ")\n",
        "𝑃\n",
        "(\n",
        "𝐵\n",
        ")\n",
        "P(A∣B)=\n",
        "P(B)\n",
        "P(B∣A)⋅P(A)\n",
        "​\n",
        "\n",
        "Where:\n",
        "\n",
        "𝑃\n",
        "(\n",
        "𝐴\n",
        "∣\n",
        "𝐵\n",
        ")\n",
        "P(A∣B) = Posterior probability: Probability of hypothesis\n",
        "𝐴\n",
        "A given the evidence\n",
        "𝐵\n",
        "B\n",
        "\n",
        "𝑃\n",
        "(\n",
        "𝐵\n",
        "∣\n",
        "𝐴\n",
        ")\n",
        "P(B∣A) = Likelihood: Probability of evidence\n",
        "𝐵\n",
        "B given that\n",
        "𝐴\n",
        "A is true\n",
        "\n",
        "𝑃\n",
        "(\n",
        "𝐴\n",
        ")\n",
        "P(A) = Prior probability: Initial belief about\n",
        "𝐴\n",
        "A before seeing evidence\n",
        "\n",
        "𝑃\n",
        "(\n",
        "𝐵\n",
        ")\n",
        "P(B) = Marginal likelihood: Total probability of observing\n",
        "𝐵\n",
        "B\n",
        "\n",
        "How It’s Used in Statistics\n",
        "1. Bayesian Inference\n",
        "Updates beliefs about a parameter (like a mean or proportion) after seeing data.\n",
        "\n",
        "For example, if you start with a belief that a coin is fair (prior), then observe 8 heads in 10 flips (evidence), Bayes' Theorem helps update your belief about the coin's fairness (posterior).\n",
        "\n",
        "2. Decision Making Under Uncertainty\n",
        "In fields like medicine, finance, and machine learning, it's used to make decisions based on uncertain or incomplete information.\n",
        "\n",
        "Example: In diagnostic testing, it helps determine the probability of disease given a positive test result.\n",
        "\n",
        "3. Machine Learning & AI\n",
        "Naive Bayes classifiers are simple yet powerful models that use Bayes' Theorem to classify text, spam, sentiment, etc.\n",
        "\n",
        "Probabilistic models often rely on Bayesian thinking to model uncertainties.\n",
        "\n",
        "4. Predictive Modeling\n",
        "Used to predict future events by continually updating model parameters as new data comes in.\n",
        "\n",
        "Significance of Bayes' Theorem\n",
        "Incorporates Prior Knowledge: Allows statisticians to include previous knowledge or beliefs into the analysis.\n",
        "\n",
        "Dynamic Learning: Updates beliefs in a mathematically consistent way as new data arrives.\n",
        "\n",
        "Intuitive Interpretation: Provides a probabilistic framework for reasoning under uncertainty.\n",
        "\n",
        "Wide Applicability: Used in everything from epidemiology to natural language processing."
      ],
      "metadata": {
        "id": "qkKeF0euw8H2"
      }
    },
    {
      "cell_type": "markdown",
      "source": [
        "Q17 - What is the Chi-square distribution, and when is it used?"
      ],
      "metadata": {
        "id": "xpsM2zpzw8hI"
      }
    },
    {
      "cell_type": "markdown",
      "source": [
        "Ans 17 - The Chi-square (χ²) distribution is a probability distribution that arises frequently in statistics, particularly in hypothesis testing and variance estimation. Here’s a breakdown of what it is and when it's used:\n",
        "\n",
        "What is the Chi-square Distribution?\n",
        "It's a continuous probability distribution.\n",
        "\n",
        "It’s skewed right, but the shape depends on the degrees of freedom (df): as df increases, it becomes more symmetrical.\n",
        "\n",
        "It's defined only for non-negative values (x ≥ 0) because it deals with squared quantities.\n",
        "\n",
        "It’s derived from the sum of the squares of independent standard normal variables:\n",
        "\n",
        "𝜒\n",
        "2\n",
        "=\n",
        "𝑍\n",
        "1\n",
        "2\n",
        "+\n",
        "𝑍\n",
        "2\n",
        "2\n",
        "+\n",
        "⋯\n",
        "+\n",
        "𝑍\n",
        "𝑘\n",
        "2\n",
        "χ\n",
        "2\n",
        " =Z\n",
        "1\n",
        "2\n",
        "​\n",
        " +Z\n",
        "2\n",
        "2\n",
        "​\n",
        " +⋯+Z\n",
        "k\n",
        "2\n",
        "​\n",
        "\n",
        "where each\n",
        "𝑍\n",
        "𝑖\n",
        "Z\n",
        "i\n",
        "​\n",
        "  is a standard normal variable, and\n",
        "𝑘\n",
        "k is the degrees of freedom."
      ],
      "metadata": {
        "id": "yGb9Mqe7xAQE"
      }
    },
    {
      "cell_type": "markdown",
      "source": [
        "Q18 -  What is the Chi-square goodness of fit test, and how is it applied?"
      ],
      "metadata": {
        "id": "5C3Az6gBxAtk"
      }
    },
    {
      "cell_type": "markdown",
      "source": [
        "Ans 18 - The Chi-square goodness of fit test is a statistical test used to determine whether a set of observed values significantly differs from the values expected under a specific hypothesis. It's often used when you want to test how well an observed categorical data distribution fits with an expected distribution.\n",
        "\n",
        "Purpose\n",
        "To see if a sample comes from a population with a specific distribution.\n",
        "\n",
        "When to Use It\n",
        "Use the Chi-square goodness of fit test when:\n",
        "\n",
        "You have one categorical variable.\n",
        "\n",
        "You have observed frequencies from your data.\n",
        "\n",
        "You have expected frequencies based on a hypothesis (e.g. equal distribution, or based on historical data).\n",
        "\n",
        "Formula\n",
        "𝜒\n",
        "2\n",
        "=\n",
        "∑\n",
        "(\n",
        "𝑂\n",
        "𝑖\n",
        "−\n",
        "𝐸\n",
        "𝑖\n",
        ")\n",
        "2\n",
        "𝐸\n",
        "𝑖\n",
        "χ\n",
        "2\n",
        " =∑\n",
        "E\n",
        "i\n",
        "​\n",
        "\n",
        "(O\n",
        "i\n",
        "​\n",
        " −E\n",
        "i\n",
        "​\n",
        " )\n",
        "2\n",
        "\n",
        "​\n",
        "\n",
        "𝑂\n",
        "𝑖\n",
        "O\n",
        "i\n",
        "​\n",
        " : observed frequency for category i\n",
        "\n",
        "𝐸\n",
        "𝑖\n",
        "E\n",
        "i\n",
        "​\n",
        " : expected frequency for category i\n",
        "\n",
        "The sum is taken over all categories.\n",
        "\n",
        "Steps to Apply the Test\n",
        "State the Hypotheses\n",
        "\n",
        "𝐻\n",
        "0\n",
        "H\n",
        "0\n",
        "​\n",
        " : The observed distribution matches the expected distribution.\n",
        "\n",
        "𝐻\n",
        "1\n",
        "H\n",
        "1\n",
        "​\n",
        " : The observed distribution does not match the expected distribution.\n",
        "\n",
        "Calculate Expected Frequencies\n",
        "Based on your null hypothesis. For example, if expecting equal distribution across 4 categories and you have 100 items:\n",
        "\n",
        "𝐸\n",
        "𝑖\n",
        "=\n",
        "100\n",
        "4\n",
        "=\n",
        "25\n",
        " per category\n",
        "E\n",
        "i\n",
        "​\n",
        " =\n",
        "4\n",
        "100\n",
        "​\n",
        " =25 per category\n",
        "Compute the Test Statistic\n",
        "Use the formula above.\n",
        "\n",
        "Determine Degrees of Freedom\n",
        "\n",
        "df\n",
        "=\n",
        "number of categories\n",
        "−\n",
        "1\n",
        "df=number of categories−1\n",
        "Compare with Chi-square Critical Value\n",
        "Use a Chi-square table and your chosen significance level (commonly 0.05).\n",
        "If your test statistic > critical value → reject\n",
        "𝐻\n",
        "0\n",
        "H\n",
        "0\n",
        "​\n",
        " .\n",
        "\n",
        "Or Use a p-value\n",
        "If p-value < α → reject\n",
        "𝐻\n",
        "0\n",
        "H\n",
        "0\n",
        "​"
      ],
      "metadata": {
        "id": "RvLJ8GlkxECv"
      }
    },
    {
      "cell_type": "markdown",
      "source": [
        "Q19 - What is the F-distribution, and when is it used in hypothesis testing?"
      ],
      "metadata": {
        "id": "djpKZ885xEdN"
      }
    },
    {
      "cell_type": "markdown",
      "source": [
        "Ans 19 - The F-distribution is a continuous probability distribution that arises frequently in analysis of variance (ANOVA) and in comparing variances across groups. It's used in hypothesis testing when we are interested in ratios of variances.\n",
        "\n",
        "Definition\n",
        "The F-distribution is the distribution of a ratio of two independent chi-square variables, each divided by their respective degrees of freedom:\n",
        "\n",
        "𝐹\n",
        "=\n",
        "(\n",
        "𝑋\n",
        "1\n",
        "/\n",
        "𝑑\n",
        "1\n",
        ")\n",
        "(\n",
        "𝑋\n",
        "2\n",
        "/\n",
        "𝑑\n",
        "2\n",
        ")\n",
        "F=\n",
        "(X\n",
        "2\n",
        "​\n",
        " /d\n",
        "2\n",
        "​\n",
        " )\n",
        "(X\n",
        "1\n",
        "​\n",
        " /d\n",
        "1\n",
        "​\n",
        " )\n",
        "​\n",
        "\n",
        "Where:\n",
        "\n",
        "𝑋\n",
        "1\n",
        "∼\n",
        "𝜒\n",
        "𝑑\n",
        "1\n",
        "2\n",
        "X\n",
        "1\n",
        "​\n",
        " ∼χ\n",
        "d\n",
        "1\n",
        "​\n",
        "\n",
        "2\n",
        "​\n",
        " , and\n",
        "𝑋\n",
        "2\n",
        "∼\n",
        "𝜒\n",
        "𝑑\n",
        "2\n",
        "2\n",
        "X\n",
        "2\n",
        "​\n",
        " ∼χ\n",
        "d\n",
        "2\n",
        "​\n",
        "\n",
        "2\n",
        "​\n",
        "\n",
        "\n",
        "𝑑\n",
        "1\n",
        "d\n",
        "1\n",
        "​\n",
        "  and\n",
        "𝑑\n",
        "2\n",
        "d\n",
        "2\n",
        "​\n",
        "  are the degrees of freedom\n",
        "\n",
        "The resulting\n",
        "𝐹\n",
        "F value follows an F-distribution with\n",
        "𝑑\n",
        "1\n",
        "d\n",
        "1\n",
        "​\n",
        "  and\n",
        "𝑑\n",
        "2\n",
        "d\n",
        "2\n",
        "​\n",
        "  degrees of freedom.\n",
        "\n",
        "When is it used in hypothesis testing?\n",
        "Here are the main scenarios:\n",
        "\n",
        "1. ANOVA (Analysis of Variance)\n",
        "Goal: Compare the means of three or more groups.\n",
        "\n",
        "F-test use: Tests if the between-group variance is significantly greater than the within-group variance.\n",
        "\n",
        "Null hypothesis\n",
        "𝐻\n",
        "0\n",
        "H\n",
        "0\n",
        "​\n",
        " : All group means are equal.\n",
        "\n",
        "Alternative\n",
        "𝐻\n",
        "𝑎\n",
        "H\n",
        "a\n",
        "​\n",
        " : At least one group mean is different.\n",
        "\n",
        "2. Comparing Two Variances\n",
        "Used to test whether two populations have equal variances.\n",
        "\n",
        "Null hypothesis\n",
        "𝐻\n",
        "0\n",
        "H\n",
        "0\n",
        "​\n",
        " :\n",
        "𝜎\n",
        "1\n",
        "2\n",
        "=\n",
        "𝜎\n",
        "2\n",
        "2\n",
        "σ\n",
        "1\n",
        "2\n",
        "​\n",
        " =σ\n",
        "2\n",
        "2\n",
        "​\n",
        "\n",
        "\n",
        "Alternative\n",
        "𝐻\n",
        "𝑎\n",
        "H\n",
        "a\n",
        "​\n",
        " :\n",
        "𝜎\n",
        "1\n",
        "2\n",
        "≠\n",
        "𝜎\n",
        "2\n",
        "2\n",
        "σ\n",
        "1\n",
        "2\n",
        "​\n",
        "\n",
        "\n",
        "=σ\n",
        "2\n",
        "2\n",
        "​\n",
        "  (or one-sided)\n",
        "\n",
        "3. Regression Analysis (Overall Model Significance)\n",
        "Tests whether a regression model explains a significant amount of variation in the dependent variable.\n",
        "\n",
        "Compares a model with predictors to a model with just the intercept."
      ],
      "metadata": {
        "id": "QNttqKpzxKh2"
      }
    },
    {
      "cell_type": "markdown",
      "source": [
        "Q20 - What is an ANOVA test, and what are its assumptions?"
      ],
      "metadata": {
        "id": "YA1KGAiqxLnV"
      }
    },
    {
      "cell_type": "markdown",
      "source": [
        "Ans 20 - An ANOVA (Analysis of Variance) test is a statistical method used to determine whether there are significant differences between the means of three or more independent (unrelated) groups. It's often used in experimental designs to test hypotheses about group differences.\n",
        "\n",
        "Purpose of ANOVA:\n",
        "ANOVA tests the null hypothesis that all group means are equal. If the p-value from the test is less than a chosen significance level (like 0.05), we reject the null hypothesis and conclude that at least one group mean is significantly different from the others.\n",
        "\n",
        "Types of ANOVA:\n",
        "One-Way ANOVA: Tests one independent variable with multiple levels (e.g., comparing test scores from students in 3 different teaching methods).\n",
        "\n",
        "Two-Way ANOVA: Includes two independent variables (e.g., effects of teaching method and gender on test scores).\n",
        "\n",
        "Repeated Measures ANOVA: Used when the same subjects are measured multiple times.\n",
        "\n",
        "Assumptions of ANOVA:\n",
        "To trust the results of an ANOVA, these key assumptions should be met:\n",
        "\n",
        "Independence of Observations:\n",
        "\n",
        "Each group sample must be independent of the others.\n",
        "\n",
        "Observations within each group must also be independent.\n",
        "\n",
        "Normality:\n",
        "\n",
        "The data in each group should be approximately normally distributed.\n",
        "\n",
        "This is especially important when sample sizes are small.\n",
        "\n",
        "Homogeneity of Variances (Homoscedasticity):\n",
        "\n",
        "The variance among the groups should be roughly equal.\n",
        "\n",
        "You can test this with Levene’s Test or Bartlett’s Test."
      ],
      "metadata": {
        "id": "JWw8zRTLxPud"
      }
    },
    {
      "cell_type": "markdown",
      "source": [
        "Q21 -  What are the different types of ANOVA tests?"
      ],
      "metadata": {
        "id": "hHqrg70pxQpA"
      }
    },
    {
      "cell_type": "markdown",
      "source": [
        "Ans 21 - ANOVA (Analysis of Variance) tests are used to determine whether there are statistically significant differences between the means of three or more groups. There are several types of ANOVA, each suited to different experimental designs and data structures. Here are the main types:\n",
        "\n",
        "1. One-Way ANOVA\n",
        "Purpose: Compares the means of three or more independent (unrelated) groups based on one independent variable (factor).\n",
        "\n",
        "Example: Comparing test scores of students from three different teaching methods.\n",
        "\n",
        "2. Two-Way ANOVA (Factorial ANOVA)\n",
        "Purpose: Examines the effect of two independent variables on one dependent variable, including their interaction.\n",
        "\n",
        "Types:\n",
        "\n",
        "Without interaction: Tests main effects only.\n",
        "\n",
        "With interaction: Tests how the interaction between two factors affects the dependent variable.\n",
        "\n",
        "Example: Studying the effect of diet (vegetarian, non-vegetarian) and exercise (yes, no) on weight loss.\n",
        "\n",
        "3. Repeated Measures ANOVA\n",
        "Purpose: Compares means within the same subjects over time or under different conditions (i.e., related groups).\n",
        "\n",
        "Example: Measuring blood pressure in the same group of patients before, during, and after treatment.\n",
        "\n",
        "4. Mixed-Design ANOVA (Split-Plot ANOVA)\n",
        "Purpose: Combines between-subjects and within-subjects factors.\n",
        "\n",
        "Example: Evaluating the performance of different groups (between-subjects) across multiple time points (within-subjects).\n",
        "\n",
        "5. MANOVA (Multivariate Analysis of Variance)\n",
        "Purpose: Extension of ANOVA that assesses multiple dependent variables simultaneously.\n",
        "\n",
        "Example: Investigating the effect of a training program on both productivity and job satisfaction.\n",
        "\n",
        "6. ANCOVA (Analysis of Covariance)\n",
        "Purpose: ANOVA that includes one or more covariates (continuous variables that may affect the dependent variable) to control for their effects.\n",
        "\n",
        "Example: Comparing group test scores while controlling for students’ IQ."
      ],
      "metadata": {
        "id": "tZeQZ7s1xTyH"
      }
    },
    {
      "cell_type": "markdown",
      "source": [
        "Q22 -  What is the F-test, and how does it relate to hypothesis testing?"
      ],
      "metadata": {
        "id": "M_YthxvwxUKW"
      }
    },
    {
      "cell_type": "markdown",
      "source": [
        "Ans 22 - The F-test is a type of statistical test that uses the F-distribution to compare variances or model fits and is widely used in hypothesis testing, especially in the context of ANOVA (Analysis of Variance) and regression analysis.\n",
        "\n",
        "What is the F-test?\n",
        "At its core, the F-test compares two variances or tests whether a group of variables has a significant effect. It computes a ratio of two variances:\n",
        "\n",
        "𝐹\n",
        "=\n",
        "Variance of group 1 (or explained variance)\n",
        "Variance of group 2 (or unexplained variance)\n",
        "F=\n",
        "Variance of group 2 (or unexplained variance)\n",
        "Variance of group 1 (or explained variance)\n",
        "​\n",
        "\n",
        "The resulting F-value is then compared to a critical value from the F-distribution, which depends on the degrees of freedom of the numerator and the denominator.\n",
        "\n",
        "F-test in Hypothesis Testing\n",
        "In hypothesis testing, the F-test is used to decide whether to reject the null hypothesis. It’s often applied in the following contexts:\n",
        "\n",
        "1. Comparing Two Variances\n",
        "Null Hypothesis (H₀): The variances are equal (\n",
        "𝜎\n",
        "1\n",
        "2\n",
        "=\n",
        "𝜎\n",
        "2\n",
        "2\n",
        "σ\n",
        "1\n",
        "2\n",
        "​\n",
        " =σ\n",
        "2\n",
        "2\n",
        "​\n",
        " )\n",
        "\n",
        "Alternative Hypothesis (H₁): The variances are not equal (\n",
        "𝜎\n",
        "1\n",
        "2\n",
        "≠\n",
        "𝜎\n",
        "2\n",
        "2\n",
        "σ\n",
        "1\n",
        "2\n",
        "​\n",
        "\n",
        "\n",
        "=σ\n",
        "2\n",
        "2\n",
        "​\n",
        " )\n",
        "\n",
        "2. ANOVA (Analysis of Variance)\n",
        "Used to compare the means of three or more groups.\n",
        "\n",
        "H₀: All group means are equal.\n",
        "\n",
        "H₁: At least one group mean is different.\n",
        "\n",
        "F-test checks whether the variation between group means is greater than would be expected by chance (within-group variation).\n",
        "\n",
        "3. Regression Analysis\n",
        "Tests whether a regression model as a whole is useful.\n",
        "\n",
        "H₀: None of the predictor variables are related to the response (all coefficients = 0).\n",
        "\n",
        "H₁: At least one predictor is related to the response.\n",
        "\n",
        "F-statistic here compares the explained vs. unexplained variance."
      ],
      "metadata": {
        "id": "K60ooYG9UAMR"
      }
    },
    {
      "cell_type": "markdown",
      "source": [
        "Pratical Questions"
      ],
      "metadata": {
        "id": "ZGcRdvV8wf7V"
      }
    },
    {
      "cell_type": "markdown",
      "source": [
        "Q1 - Write a Python program to perform a Z-test for comparing a sample mean to a known population mean and interpret the results?"
      ],
      "metadata": {
        "id": "Ftl0mG3JwZ_d"
      }
    },
    {
      "cell_type": "code",
      "source": [
        "#Ans 1\n",
        "\n",
        "import math\n",
        "from scipy.stats import norm\n",
        "\n",
        "def z_test(sample_mean, population_mean, population_std_dev, sample_size, alpha=0.05):\n",
        "    # Calculate the Z-score\n",
        "    z_score = (sample_mean - population_mean) / (population_std_dev / math.sqrt(sample_size))\n",
        "\n",
        "    # Find the critical Z-value from the normal distribution\n",
        "    critical_value = norm.ppf(1 - alpha / 2)  # Two-tailed test, so use alpha/2\n",
        "\n",
        "    # Calculate the p-value for the Z-score\n",
        "    p_value = 2 * (1 - norm.cdf(abs(z_score)))  # Two-tailed test\n",
        "\n",
        "    # Print results\n",
        "    print(f\"Z-score: {z_score}\")\n",
        "    print(f\"Critical Value: ±{critical_value}\")\n",
        "    print(f\"P-value: {p_value}\")\n",
        "\n",
        "    # Decision Rule\n",
        "    if abs(z_score) > critical_value:\n",
        "        print(\"Reject the null hypothesis: The sample mean is significantly different from the population mean.\")\n",
        "    else:\n",
        "        print(\"Fail to reject the null hypothesis: The sample mean is not significantly different from the population mean.\")\n",
        "\n",
        "# Example usage\n",
        "sample_mean = 105  # Sample mean\n",
        "population_mean = 100  # Known population mean\n",
        "population_std_dev = 15  # Population standard deviation (known)\n",
        "sample_size = 30  # Sample size\n",
        "alpha = 0.05  # Significance level\n",
        "\n",
        "z_test(sample_mean, population_mean, population_std_dev, sample_size, alpha)"
      ],
      "metadata": {
        "colab": {
          "base_uri": "https://localhost:8080/"
        },
        "id": "R9wvTV6uwuF4",
        "outputId": "74a2b746-d049-4d64-a662-80bd9da550e8"
      },
      "execution_count": 2,
      "outputs": [
        {
          "output_type": "stream",
          "name": "stdout",
          "text": [
            "Z-score: 1.8257418583505538\n",
            "Critical Value: ±1.959963984540054\n",
            "P-value: 0.067889154861829\n",
            "Fail to reject the null hypothesis: The sample mean is not significantly different from the population mean.\n"
          ]
        }
      ]
    },
    {
      "cell_type": "markdown",
      "source": [
        "Q2 - Simulate random data to perform hypothesis testing and calculate the corresponding P-value using Python?"
      ],
      "metadata": {
        "id": "gD_Rfuy9wufN"
      }
    },
    {
      "cell_type": "code",
      "source": [
        "#Ans 2\n",
        "\n",
        "import numpy as np\n",
        "from scipy import stats\n",
        "\n",
        "# Step 1: Simulate random data for two groups\n",
        "np.random.seed(42)  # Set seed for reproducibility\n",
        "\n",
        "# Simulate data for two groups (e.g., control group and treatment group)\n",
        "group1 = np.random.normal(loc=50, scale=10, size=100)  # Mean = 50, Std = 10, n = 100\n",
        "group2 = np.random.normal(loc=55, scale=10, size=100)  # Mean = 55, Std = 10, n = 100\n",
        "\n",
        "# Step 2: Perform two-sample t-test to compare the means of the two groups\n",
        "t_stat, p_value = stats.ttest_ind(group1, group2)\n",
        "\n",
        "# Step 3: Output results\n",
        "print(\"T-statistic:\", t_stat)\n",
        "print(\"P-value:\", p_value)\n",
        "\n",
        "# Step 4: Interpretation\n",
        "alpha = 0.05\n",
        "if p_value < alpha:\n",
        "    print(\"Reject the null hypothesis: There is a significant difference between the groups.\")\n",
        "else:\n",
        "    print(\"Fail to reject the null hypothesis: No significant difference between the groups.\")"
      ],
      "metadata": {
        "colab": {
          "base_uri": "https://localhost:8080/"
        },
        "id": "czRB35CWw2Jn",
        "outputId": "71ae9c1c-49f9-4f86-ff57-9666531c854c"
      },
      "execution_count": 4,
      "outputs": [
        {
          "output_type": "stream",
          "name": "stdout",
          "text": [
            "T-statistic: -4.7546959435052765\n",
            "P-value: 3.8191352626795345e-06\n",
            "Reject the null hypothesis: There is a significant difference between the groups.\n"
          ]
        }
      ]
    },
    {
      "cell_type": "markdown",
      "source": [
        "Q3 -  Implement a one-sample Z-test using Python to compare the sample mean with the population mean?"
      ],
      "metadata": {
        "id": "ZEwwee2Cw2dN"
      }
    },
    {
      "cell_type": "code",
      "source": [
        "# Ans 3\n",
        "\n",
        "import numpy as np\n",
        "from scipy.stats import norm\n",
        "\n",
        "def one_sample_z_test(sample_data, population_mean, population_std):\n",
        "    # Step 1: Calculate the sample mean\n",
        "    sample_mean = np.mean(sample_data)\n",
        "\n",
        "    # Step 2: Calculate the sample size (n)\n",
        "    n = len(sample_data)\n",
        "\n",
        "    # Step 3: Calculate the Z score\n",
        "    z_score = (sample_mean - population_mean) / (population_std / np.sqrt(n))\n",
        "\n",
        "    # Step 4: Calculate the p-value (two-tailed test)\n",
        "    p_value = 2 * (1 - norm.cdf(abs(z_score)))  # two-tailed test\n",
        "\n",
        "    # Output results\n",
        "    return z_score, p_value\n",
        "\n",
        "# Example usage:\n",
        "sample_data = [125, 130, 135, 140, 145, 150, 155, 160, 165, 170]  # Example sample data\n",
        "population_mean = 150  # Hypothetical population mean\n",
        "population_std = 15    # Hypothetical population standard deviation\n",
        "\n",
        "z_score, p_value = one_sample_z_test(sample_data, population_mean, population_std)\n",
        "\n",
        "print(f\"Z-score: {z_score}\")\n",
        "print(f\"P-value: {p_value}\")\n",
        "\n",
        "# Determine significance level (e.g., alpha = 0.05)\n",
        "alpha = 0.05\n",
        "if p_value < alpha:\n",
        "    print(\"Reject the null hypothesis: the sample mean is significantly different from the population mean.\")\n",
        "else:\n",
        "    print(\"Fail to reject the null hypothesis: the sample mean is not significantly different from the population mean.\")"
      ],
      "metadata": {
        "colab": {
          "base_uri": "https://localhost:8080/"
        },
        "id": "cTP0KfnexEcM",
        "outputId": "d9aad231-9838-4c97-8614-8130252c6afc"
      },
      "execution_count": 5,
      "outputs": [
        {
          "output_type": "stream",
          "name": "stdout",
          "text": [
            "Z-score: -0.5270462766947299\n",
            "P-value: 0.5981614526835282\n",
            "Fail to reject the null hypothesis: the sample mean is not significantly different from the population mean.\n"
          ]
        }
      ]
    },
    {
      "cell_type": "markdown",
      "source": [
        "Q4 -  Perform a two-tailed Z-test using Python and visualize the decision region on a plot?"
      ],
      "metadata": {
        "id": "CROd3-IUxEz6"
      }
    },
    {
      "cell_type": "code",
      "source": [
        "# Ans 4\n",
        "\n",
        "import numpy as np\n",
        "import scipy.stats as stats\n",
        "import matplotlib.pyplot as plt\n",
        "\n",
        "# Step 1: Define the given values\n",
        "sample_mean = 102  # Example sample mean\n",
        "population_mean = 100  # Population mean (H0)\n",
        "population_std = 15  # Population standard deviation\n",
        "sample_size = 30  # Sample size\n",
        "alpha = 0.05  # Significance level\n",
        "\n",
        "# Step 2: Calculate the Z-score\n",
        "z_score = (sample_mean - population_mean) / (population_std / np.sqrt(sample_size))\n",
        "\n",
        "# Step 3: Critical Z-value for a two-tailed test at alpha = 0.05\n",
        "z_critical = stats.norm.ppf(1 - alpha / 2)\n",
        "\n",
        "# Step 4: Plotting the decision region\n",
        "x = np.linspace(-4, 4, 1000)  # Range of Z-values for plotting\n",
        "y = stats.norm.pdf(x, 0, 1)  # Standard normal distribution\n",
        "\n",
        "plt.plot(x, y, label='Standard Normal Distribution', color='blue')\n",
        "\n",
        "# Rejection regions\n",
        "plt.fill_between(x, y, where=(x <= -z_critical) | (x >= z_critical), color='red', alpha=0.3, label='Rejection Region')\n",
        "\n",
        "# Mark the Z-score\n",
        "plt.axvline(x=z_score, color='green', linestyle='dashed', label=f'Calculated Z = {z_score:.2f}')\n",
        "plt.axvline(x=-z_score, color='green', linestyle='dashed')\n",
        "\n",
        "# Critical Z-values\n",
        "plt.axvline(x=z_critical, color='orange', linestyle='dotted', label=f'Critical Z = ±{z_critical:.2f}')\n",
        "plt.axvline(x=-z_critical, color='orange', linestyle='dotted')\n",
        "\n",
        "# Labels and title\n",
        "plt.title('Two-Tailed Z-Test Decision Region')\n",
        "plt.xlabel('Z-Score')\n",
        "plt.ylabel('Probability Density')\n",
        "plt.legend(loc='upper left')\n",
        "\n",
        "# Show the plot\n",
        "plt.show()\n",
        "\n",
        "# Step 5: Decision\n",
        "if abs(z_score) > z_critical:\n",
        "    print(\"Reject the null hypothesis: The sample mean is significantly different from the population mean.\")\n",
        "else:\n",
        "    print(\"Fail to reject the null hypothesis: There is no significant difference from the population mean.\")"
      ],
      "metadata": {
        "colab": {
          "base_uri": "https://localhost:8080/",
          "height": 489
        },
        "id": "_g5GmTrUxNnD",
        "outputId": "d7c96a9b-cc51-4e82-a610-0ee4547fd29a"
      },
      "execution_count": 6,
      "outputs": [
        {
          "output_type": "display_data",
          "data": {
            "text/plain": [
              "<Figure size 640x480 with 1 Axes>"
            ],
            "image/png": "[encoded data removed]"
          },
          "metadata": {}
        },
        {
          "output_type": "stream",
          "name": "stdout",
          "text": [
            "Fail to reject the null hypothesis: There is no significant difference from the population mean.\n"
          ]
        }
      ]
    },
    {
      "cell_type": "markdown",
      "source": [
        "Q5 -  Create a Python function that calculates and visualizes Type 1 and Type 2 errors during hypothesis testing?"
      ],
      "metadata": {
        "id": "rpdRblCjxN8b"
      }
    },
    {
      "cell_type": "code",
      "source": [
        "# Ans 5\n",
        "\n",
        "import numpy as np\n",
        "import matplotlib.pyplot as plt\n",
        "from scipy.stats import norm\n",
        "\n",
        "# Function to calculate and visualize Type 1 and Type 2 errors\n",
        "def visualize_errors(true_mean, sample_mean, sigma, n, alpha=0.05, power=0.8):\n",
        "    \"\"\"\n",
        "    true_mean: Mean under the null hypothesis (H0)\n",
        "    sample_mean: Mean under the alternative hypothesis (H1)\n",
        "    sigma: Standard deviation of the population\n",
        "    n: Sample size\n",
        "    alpha: Significance level for Type 1 error (default 0.05)\n",
        "    power: Power (1 - beta), default is 0.8\n",
        "    \"\"\"\n",
        "    # Calculate the standard error\n",
        "    standard_error = sigma / np.sqrt(n)\n",
        "\n",
        "    # Z critical value for Type 1 error (alpha)\n",
        "    z_critical = norm.ppf(1 - alpha)\n",
        "\n",
        "    # Power calculation: Find the Z value for the alternative hypothesis\n",
        "    beta = 1 - power\n",
        "    z_beta = norm.ppf(power)\n",
        "\n",
        "    # Critical region under H0 (null hypothesis)\n",
        "    critical_value = true_mean + z_critical * standard_error\n",
        "\n",
        "    # Type 1 Error (rejection of H0 when H0 is true)\n",
        "    # This is the area under the normal curve of H0 beyond the critical value\n",
        "    type_1_error_area = norm.cdf(z_critical)\n",
        "\n",
        "    # Type 2 Error (failing to reject H0 when H1 is true)\n",
        "    # This is the area under the normal curve of H1 to the left of the critical value\n",
        "    type_2_error_area = norm.cdf(z_critical - (sample_mean - true_mean) / standard_error)\n",
        "\n",
        "    # Print errors\n",
        "    print(f\"Type 1 Error (False Positive) Rate: {type_1_error_area:.4f}\")\n",
        "    print(f\"Type 2 Error (False Negative) Rate: {type_2_error_area:.4f}\")\n",
        "\n",
        "    # Plot the distributions under H0 and H1\n",
        "    x = np.linspace(true_mean - 4*sigma, true_mean + 4*sigma, 1000)\n",
        "    y_h0 = norm.pdf(x, true_mean, standard_error)\n",
        "    y_h1 = norm.pdf(x, sample_mean, standard_error)\n",
        "\n",
        "    # Plotting\n",
        "    plt.figure(figsize=(10, 6))\n",
        "\n",
        "    # Plot H0 distribution\n",
        "    plt.plot(x, y_h0, label='H0 Distribution', color='blue')\n",
        "\n",
        "    # Plot H1 distribution\n",
        "    plt.plot(x, y_h1, label='H1 Distribution', color='red')\n",
        "\n",
        "    # Mark critical value for Type 1 error region\n",
        "    plt.axvline(x=critical_value, color='black', linestyle='--', label=f'Critical Value (z={z_critical:.2f})')\n",
        "\n",
        "    # Shade Type 1 Error region (rejection of H0)\n",
        "    plt.fill_between(x, y_h0, where=(x > critical_value), color='gray', alpha=0.5, label='Type 1 Error Region')\n",
        "\n",
        "    # Shade Type 2 Error region (failing to reject H0 when H1 is true)\n",
        "    plt.fill_between(x, y_h1, where=(x < critical_value), color='orange', alpha=0.5, label='Type 2 Error Region')\n",
        "\n",
        "    plt.title('Type 1 and Type 2 Error Visualization')\n",
        "    plt.xlabel('Sample Mean')\n",
        "    plt.ylabel('Probability Density')\n",
        "    plt.legend()\n",
        "    plt.grid(True)\n",
        "    plt.show()\n",
        "\n",
        "# Example usage:\n",
        "true_mean = 50   # True population mean under H0\n",
        "sample_mean = 52  # Mean under alternative hypothesis H1\n",
        "sigma = 10       # Population standard deviation\n",
        "n = 30           # Sample size\n",
        "alpha = 0.05     # Significance level (5%)\n",
        "power = 0.8      # Desired power (80%)\n",
        "\n",
        "# Call the function\n",
        "visualize_errors(true_mean, sample_mean, sigma, n, alpha, power)"
      ],
      "metadata": {
        "colab": {
          "base_uri": "https://localhost:8080/",
          "height": 599
        },
        "id": "Tt3pQqAkxTg6",
        "outputId": "b7e3e029-bbda-48df-efea-99bfe84aa197"
      },
      "execution_count": 7,
      "outputs": [
        {
          "output_type": "stream",
          "name": "stdout",
          "text": [
            "Type 1 Error (False Positive) Rate: 0.9500\n",
            "Type 2 Error (False Negative) Rate: 0.7086\n"
          ]
        },
        {
          "output_type": "display_data",
          "data": {
            "text/plain": [
              "<Figure size 1000x600 with 1 Axes>"
            ],
            "image/png": "[encoded data removed]"
          },
          "metadata": {}
        }
      ]
    },
    {
      "cell_type": "markdown",
      "source": [
        "Q6 -  Write a Python program to perform an independent T-test and interpret the results?"
      ],
      "metadata": {
        "id": "feRwTTo2xT81"
      }
    },
    {
      "cell_type": "code",
      "source": [
        "# Ans 6\n",
        "\n",
        "import numpy as np\n",
        "import scipy.stats as stats\n",
        "\n",
        "# Sample data\n",
        "group1 = [23, 21, 18, 25, 27, 30, 22, 24, 20, 26]  # Data for group 1\n",
        "group2 = [34, 33, 36, 37, 38, 39, 35, 33, 34, 32]  # Data for group 2\n",
        "\n",
        "# Perform the independent t-test\n",
        "t_stat, p_value = stats.ttest_ind(group1, group2)\n",
        "\n",
        "# Output the results\n",
        "print(f\"T-statistic: {t_stat}\")\n",
        "print(f\"P-value: {p_value}\")\n",
        "\n",
        "# Interpretation of results\n",
        "alpha = 0.05  # significance level\n",
        "if p_value < alpha:\n",
        "    print(\"Reject the null hypothesis: There is a significant difference between the means of the two groups.\")\n",
        "else:\n",
        "    print(\"Fail to reject the null hypothesis: There is no significant difference between the means of the two groups.\")"
      ],
      "metadata": {
        "colab": {
          "base_uri": "https://localhost:8080/"
        },
        "id": "OaBjHtUBxZXS",
        "outputId": "badae840-c97c-4035-fa9a-cef9f441eb85"
      },
      "execution_count": 8,
      "outputs": [
        {
          "output_type": "stream",
          "name": "stdout",
          "text": [
            "T-statistic: -8.537407331483132\n",
            "P-value: 9.591828299974457e-08\n",
            "Reject the null hypothesis: There is a significant difference between the means of the two groups.\n"
          ]
        }
      ]
    },
    {
      "cell_type": "markdown",
      "source": [
        "Q7 -  Perform a paired sample T-test using Python and visualize the comparison results?"
      ],
      "metadata": {
        "id": "5TaPTM8XxZ6Z"
      }
    },
    {
      "cell_type": "code",
      "source": [
        "#Ans 7\n",
        "\n",
        "import numpy as np\n",
        "import matplotlib.pyplot as plt\n",
        "import seaborn as sns\n",
        "from scipy import stats\n",
        "\n",
        "# Step 1: Generate example data\n",
        "np.random.seed(42)  # For reproducibility\n",
        "group1 = np.random.normal(loc=100, scale=10, size=30)  # First group (before treatment)\n",
        "group2 = group1 + np.random.normal(loc=5, scale=5, size=30)  # Second group (after treatment)\n",
        "\n",
        "# Step 2: Perform a paired sample T-test\n",
        "t_stat, p_value = stats.ttest_rel(group1, group2)\n",
        "\n",
        "# Step 3: Output the T-test results\n",
        "print(f\"T-statistic: {t_stat:.3f}\")\n",
        "print(f\"P-value: {p_value:.3f}\")\n",
        "\n",
        "# Step 4: Visualize the data (paired differences plot)\n",
        "plt.figure(figsize=(8, 6))\n",
        "\n",
        "# Create a dataframe for easier plotting\n",
        "sns.boxplot(data=[group1, group2], palette=\"Set2\", width=0.5)\n",
        "sns.stripplot(data=[group1, group2], jitter=True, color=\"black\", alpha=0.5)\n",
        "\n",
        "plt.xticks([0, 1], ['Before Treatment', 'After Treatment'])\n",
        "plt.title('Comparison of Group1 vs Group2')\n",
        "plt.ylabel('Value')\n",
        "plt.show()\n",
        "\n",
        "# Step 5: Visualize the difference between pairs (before - after)\n",
        "differences = group2 - group1\n",
        "plt.figure(figsize=(8, 6))\n",
        "sns.histplot(differences, kde=True, color='blue', bins=10)\n",
        "plt.title('Distribution of Differences (After - Before)')\n",
        "plt.xlabel('Difference (After - Before)')\n",
        "plt.ylabel('Frequency')\n",
        "plt.show()"
      ],
      "metadata": {
        "colab": {
          "base_uri": "https://localhost:8080/",
          "height": 1000
        },
        "id": "mk82mapvxtpc",
        "outputId": "2175919e-1af4-435f-ebaf-397c5ea00087"
      },
      "execution_count": 9,
      "outputs": [
        {
          "output_type": "stream",
          "name": "stdout",
          "text": [
            "T-statistic: -5.170\n",
            "P-value: 0.000\n"
          ]
        },
        {
          "output_type": "display_data",
          "data": {
            "text/plain": [
              "<Figure size 800x600 with 1 Axes>"
            ],
            "image/png": "[encoded data removed]"
          },
          "metadata": {}
        },
        {
          "output_type": "display_data",
          "data": {
            "text/plain": [
              "<Figure size 800x600 with 1 Axes>"
            ],
            "image/png": "[encoded data removed]"
          },
          "metadata": {}
        }
      ]
    },
    {
      "cell_type": "markdown",
      "source": [
        "Q8 -  Simulate data and perform both Z-test and T-test, then compare the results using Python?"
      ],
      "metadata": {
        "id": "t9AC4luoxuCM"
      }
    },
    {
      "cell_type": "code",
      "source": [
        "#Ans 8\n",
        "\n",
        "import numpy as np\n",
        "from scipy import stats\n",
        "\n",
        "# Simulating two datasets (Sample 1 and Sample 2)\n",
        "np.random.seed(42)\n",
        "sample_size = 50  # Sample size for both samples\n",
        "mean1, mean2 = 100, 105  # Means for the two samples\n",
        "std_dev1, std_dev2 = 15, 15  # Standard deviations for the two samples\n",
        "\n",
        "# Generating random normal data for both samples\n",
        "sample1 = np.random.normal(mean1, std_dev1, sample_size)\n",
        "sample2 = np.random.normal(mean2, std_dev2, sample_size)\n",
        "\n",
        "# Z-test:\n",
        "# For Z-test, we need to know the population standard deviation. Assuming it's known.\n",
        "population_std_dev = 15  # Known population standard deviation\n",
        "z_stat, p_value_z = stats.ttest_ind(sample1, sample2, equal_var=True)  # Performing the two-sample Z-test\n",
        "\n",
        "# T-test:\n",
        "# For T-test, we use sample standard deviations and degrees of freedom.\n",
        "t_stat, p_value_t = stats.ttest_ind(sample1, sample2, equal_var=True)  # Performing the two-sample T-test\n",
        "\n",
        "# Output the results\n",
        "print(f\"Z-test Statistic: {z_stat}, p-value: {p_value_z}\")\n",
        "print(f\"T-test Statistic: {t_stat}, p-value: {p_value_t}\")"
      ],
      "metadata": {
        "colab": {
          "base_uri": "https://localhost:8080/"
        },
        "id": "0QGctPEPxy2P",
        "outputId": "0bb2b02f-0bee-433a-90f5-8199aec6b83a"
      },
      "execution_count": 10,
      "outputs": [
        {
          "output_type": "stream",
          "name": "stdout",
          "text": [
            "Z-test Statistic: -3.187388009844473, p-value: 0.0019269706824332146\n",
            "T-test Statistic: -3.187388009844473, p-value: 0.0019269706824332146\n"
          ]
        }
      ]
    },
    {
      "cell_type": "markdown",
      "source": [
        "Q9 -  Write a Python function to calculate the confidence interval for a sample mean and explain its significance?"
      ],
      "metadata": {
        "id": "B8wRjOsRxzLh"
      }
    },
    {
      "cell_type": "code",
      "source": [
        "#Ans 9\n",
        "\n",
        "import numpy as np\n",
        "import scipy.stats as stats\n",
        "\n",
        "def confidence_interval(sample_data, confidence_level=0.95):\n",
        "    # Convert the sample data to a numpy array\n",
        "    sample_data = np.array(sample_data)\n",
        "\n",
        "    # Calculate the sample mean and standard deviation\n",
        "    sample_mean = np.mean(sample_data)\n",
        "    sample_std = np.std(sample_data, ddof=1)  # Using ddof=1 for sample standard deviation\n",
        "    sample_size = len(sample_data)\n",
        "\n",
        "    # Find the Z-score for the desired confidence level (for a normal distribution)\n",
        "    z_score = stats.norm.ppf((1 + confidence_level) / 2)\n",
        "\n",
        "    # Calculate the margin of error\n",
        "    margin_of_error = z_score * (sample_std / np.sqrt(sample_size))\n",
        "\n",
        "    # Calculate the confidence interval\n",
        "    lower_bound = sample_mean - margin_of_error\n",
        "    upper_bound = sample_mean + margin_of_error\n",
        "\n",
        "    return lower_bound, upper_bound\n",
        "\n",
        "# Example usage:\n",
        "sample_data = [2, 3, 5, 7, 9, 4, 6, 5, 7, 8]\n",
        "confidence_interval(sample_data, 0.95)"
      ],
      "metadata": {
        "colab": {
          "base_uri": "https://localhost:8080/"
        },
        "id": "E8iEAkJhx4K5",
        "outputId": "93cd7280-44cb-4598-e732-89d2c120c76a"
      },
      "execution_count": 11,
      "outputs": [
        {
          "output_type": "execute_result",
          "data": {
            "text/plain": [
              "(np.float64(4.223366539388291), np.float64(6.976633460611708))"
            ]
          },
          "metadata": {},
          "execution_count": 11
        }
      ]
    },
    {
      "cell_type": "markdown",
      "source": [
        "Q10 - Write a Python program to calculate the margin of error for a given confidence level using sample data?"
      ],
      "metadata": {
        "id": "idPJNrwbx4ic"
      }
    },
    {
      "cell_type": "code",
      "source": [
        "# Ans 10\n",
        "\n",
        "import math\n",
        "\n",
        "def margin_of_error(sample_size, sample_std_dev, confidence_level):\n",
        "    # Z-scores corresponding to different confidence levels\n",
        "    z_scores = {\n",
        "        90: 1.645,  # Z-score for 90% confidence\n",
        "        95: 1.96,   # Z-score for 95% confidence\n",
        "        99: 2.576   # Z-score for 99% confidence\n",
        "    }\n",
        "\n",
        "    # Get the Z-score for the given confidence level\n",
        "    if confidence_level not in z_scores:\n",
        "        raise ValueError(\"Unsupported confidence level. Choose from 90, 95, or 99.\")\n",
        "\n",
        "    z_score = z_scores[confidence_level]\n",
        "\n",
        "    # Calculate margin of error\n",
        "    margin_of_error = z_score * (sample_std_dev / math.sqrt(sample_size))\n",
        "    return margin_of_error\n",
        "\n",
        "# Example usage\n",
        "sample_size = 100  # Sample size (n)\n",
        "sample_std_dev = 15  # Sample standard deviation (σ)\n",
        "confidence_level = 95  # Confidence level (90, 95, or 99)\n",
        "\n",
        "me = margin_of_error(sample_size, sample_std_dev, confidence_level)\n",
        "print(f\"The margin of error for a {confidence_level}% confidence level is: {me:.2f}\")"
      ],
      "metadata": {
        "colab": {
          "base_uri": "https://localhost:8080/"
        },
        "id": "4OdUxKElyeey",
        "outputId": "7fa6783e-c756-41da-9f89-2fd84284439d"
      },
      "execution_count": 12,
      "outputs": [
        {
          "output_type": "stream",
          "name": "stdout",
          "text": [
            "The margin of error for a 95% confidence level is: 2.94\n"
          ]
        }
      ]
    },
    {
      "cell_type": "markdown",
      "source": [
        "Q11 -  Implement a Bayesian inference method using Bayes' Theorem in Python and explain the process?"
      ],
      "metadata": {
        "id": "z4toH_akye2d"
      }
    },
    {
      "cell_type": "code",
      "source": [
        "#Ans 11\n",
        "\n",
        "def bayesian_inference(prior, sensitivity, specificity, test_positive):\n",
        "    \"\"\"\n",
        "    Apply Bayes' Theorem to calculate the posterior probability.\n",
        "\n",
        "    prior: Probability of the disease (P(H))\n",
        "    sensitivity: True positive rate (P(E|H))\n",
        "    specificity: True negative rate (P(~E|~H))\n",
        "    test_positive: Probability of testing positive (P(E))\n",
        "\n",
        "    Returns the posterior probability P(H|E).\n",
        "    \"\"\"\n",
        "    # P(~H) is the probability of not having the disease\n",
        "    prior_neg = 1 - prior\n",
        "\n",
        "    # P(E|~H) is the false positive rate, i.e., 1 - specificity\n",
        "    false_positive_rate = 1 - specificity\n",
        "\n",
        "    # P(E|H) is the sensitivity (true positive rate)\n",
        "    likelihood_pos_given_disease = sensitivity\n",
        "\n",
        "    # P(E|~H) is the false positive rate (probability of testing positive without the disease)\n",
        "    likelihood_pos_given_no_disease = false_positive_rate\n",
        "\n",
        "    # P(E) is the total probability of testing positive (marginal likelihood)\n",
        "    test_positive_prob = (prior * likelihood_pos_given_disease) + (prior_neg * likelihood_pos_given_no_disease)\n",
        "\n",
        "    # Bayes' Theorem: P(H|E) = (P(E|H) * P(H)) / P(E)\n",
        "    posterior = (likelihood_pos_given_disease * prior) / test_positive_prob\n",
        "\n",
        "    return posterior\n",
        "\n",
        "# Given values:\n",
        "prior_disease = 0.01  # 1% chance of having the disease (P(H))\n",
        "sensitivity = 0.95  # True positive rate (P(E|H))\n",
        "specificity = 0.90  # True negative rate (P(~E|~H))\n",
        "test_positive = True  # The patient tested positive\n",
        "\n",
        "# Calculating the posterior probability\n",
        "posterior_probability = bayesian_inference(prior_disease, sensitivity, specificity, test_positive)\n",
        "print(f\"Posterior Probability (Probability of having the disease given a positive test): {posterior_probability:.4f}\")"
      ],
      "metadata": {
        "colab": {
          "base_uri": "https://localhost:8080/"
        },
        "id": "J3HiZ15wyjwX",
        "outputId": "c64e9d89-14a7-4832-d66c-4604d7fcc2ca"
      },
      "execution_count": 13,
      "outputs": [
        {
          "output_type": "stream",
          "name": "stdout",
          "text": [
            "Posterior Probability (Probability of having the disease given a positive test): 0.0876\n"
          ]
        }
      ]
    },
    {
      "cell_type": "markdown",
      "source": [
        "Q12 -  Perform a Chi-square test for independence between two categorical variables in Python?"
      ],
      "metadata": {
        "id": "MQ-SZ1dTykKw"
      }
    },
    {
      "cell_type": "code",
      "source": [
        "#Ans 12\n",
        "\n",
        "import pandas as pd\n",
        "import scipy.stats as stats\n",
        "\n",
        "# Example data (contingency table)\n",
        "data = {\n",
        "    'Category A': [30, 10, 20],\n",
        "    'Category B': [20, 30, 10]\n",
        "}\n",
        "\n",
        "# Create a DataFrame\n",
        "df = pd.DataFrame(data, index=['Group 1', 'Group 2', 'Group 3'])\n",
        "\n",
        "# Perform the Chi-square test for independence\n",
        "chi2, p, dof, expected = stats.chi2_contingency(df)\n",
        "\n",
        "# Print the results\n",
        "print(f\"Chi-square statistic: {chi2}\")\n",
        "print(f\"P-value: {p}\")\n",
        "print(f\"Degrees of freedom: {dof}\")\n",
        "print(f\"Expected frequencies table:\\n{expected}\")\n",
        "\n",
        "# Interpretation of the p-value\n",
        "alpha = 0.05  # significance level\n",
        "if p < alpha:\n",
        "    print(\"\\nReject the null hypothesis: The variables are dependent.\")\n",
        "else:\n",
        "    print(\"\\nFail to reject the null hypothesis: The variables are independent.\")"
      ],
      "metadata": {
        "colab": {
          "base_uri": "https://localhost:8080/"
        },
        "id": "7fJEpMPRyoOG",
        "outputId": "a5780450-28c9-43d3-fb35-102d69a21f5b"
      },
      "execution_count": 14,
      "outputs": [
        {
          "output_type": "stream",
          "name": "stdout",
          "text": [
            "Chi-square statistic: 15.333333333333332\n",
            "P-value: 0.0004681758116527776\n",
            "Degrees of freedom: 2\n",
            "Expected frequencies table:\n",
            "[[25. 25.]\n",
            " [20. 20.]\n",
            " [15. 15.]]\n",
            "\n",
            "Reject the null hypothesis: The variables are dependent.\n"
          ]
        }
      ]
    },
    {
      "cell_type": "markdown",
      "source": [
        "Q13 -  Write a Python program to calculate the expected frequencies for a Chi-square test based on observed data?"
      ],
      "metadata": {
        "id": "GwZXUZOSyomX"
      }
    },
    {
      "cell_type": "code",
      "source": [
        "#Ans 13\n",
        "\n",
        "import numpy as np\n",
        "\n",
        "def calculate_expected_frequencies(observed_data):\n",
        "    # Convert the observed data to a numpy array for easier manipulation\n",
        "    observed_data = np.array(observed_data)\n",
        "\n",
        "    # Calculate the total number of observations (sum of all observed frequencies)\n",
        "    total_observations = np.sum(observed_data)\n",
        "\n",
        "    # Calculate the row and column totals (for contingency tables)\n",
        "    row_totals = np.sum(observed_data, axis=1)\n",
        "    column_totals = np.sum(observed_data, axis=0)\n",
        "\n",
        "    # Calculate expected frequencies\n",
        "    expected_data = np.outer(row_totals, column_totals) / total_observations\n",
        "\n",
        "    return expected_data\n",
        "\n",
        "# Example: Observed data from a contingency table\n",
        "observed_data = [\n",
        "    [30, 10, 20],\n",
        "    [10, 30, 10],\n",
        "    [20, 20, 30]\n",
        "]\n",
        "\n",
        "# Calculate expected frequencies\n",
        "expected_frequencies = calculate_expected_frequencies(observed_data)\n",
        "\n",
        "print(\"Observed Frequencies:\")\n",
        "print(np.array(observed_data))\n",
        "print(\"\\nExpected Frequencies:\")\n",
        "print(expected_frequencies)\n",
        "\n",
        "import numpy as np\n",
        "\n",
        "def calculate_expected_frequencies(observed_data):\n",
        "    # Convert the observed data to a numpy array for easier manipulation\n",
        "    observed_data = np.array(observed_data)\n",
        "\n",
        "    # Calculate the total number of observations (sum of all observed frequencies)\n",
        "    total_observations = np.sum(observed_data)\n",
        "\n",
        "    # Calculate the row and column totals (for contingency tables)\n",
        "    row_totals = np.sum(observed_data, axis=1)\n",
        "    column_totals = np.sum(observed_data, axis=0)\n",
        "\n",
        "    # Calculate expected frequencies\n",
        "    expected_data = np.outer(row_totals, column_totals) / total_observations\n",
        "\n",
        "    return expected_data\n",
        "\n",
        "# Example: Observed data from a contingency table\n",
        "observed_data = [\n",
        "    [30, 10, 20],\n",
        "    [10, 30, 10],\n",
        "    [20, 20, 30]\n",
        "]\n",
        "\n",
        "# Calculate expected frequencies\n",
        "expected_frequencies = calculate_expected_frequencies(observed_data)\n",
        "\n",
        "print(\"Observed Frequencies:\")\n",
        "print(np.array(observed_data))\n",
        "print(\"\\nExpected Frequencies:\")\n",
        "print(expected_frequencies)"
      ],
      "metadata": {
        "colab": {
          "base_uri": "https://localhost:8080/"
        },
        "id": "j5fwBX-tyt8W",
        "outputId": "887fd100-6e62-483f-9e71-113f9d01b504"
      },
      "execution_count": 17,
      "outputs": [
        {
          "output_type": "stream",
          "name": "stdout",
          "text": [
            "Observed Frequencies:\n",
            "[[30 10 20]\n",
            " [10 30 10]\n",
            " [20 20 30]]\n",
            "\n",
            "Expected Frequencies:\n",
            "[[20.         20.         20.        ]\n",
            " [16.66666667 16.66666667 16.66666667]\n",
            " [23.33333333 23.33333333 23.33333333]]\n",
            "Observed Frequencies:\n",
            "[[30 10 20]\n",
            " [10 30 10]\n",
            " [20 20 30]]\n",
            "\n",
            "Expected Frequencies:\n",
            "[[20.         20.         20.        ]\n",
            " [16.66666667 16.66666667 16.66666667]\n",
            " [23.33333333 23.33333333 23.33333333]]\n"
          ]
        }
      ]
    },
    {
      "cell_type": "markdown",
      "source": [
        "Q14 -  Perform a goodness-of-fit test using Python to compare the observed data to an expected distribution?"
      ],
      "metadata": {
        "id": "GLK1gcGPyujQ"
      }
    },
    {
      "cell_type": "code",
      "source": [
        "#Ans 14\n",
        "\n",
        "import numpy as np\n",
        "from scipy.stats import chisquare\n",
        "\n",
        "# Observed data (frequencies of each face of the die)\n",
        "observed = np.array([12, 10, 11, 9, 8, 10])\n",
        "\n",
        "# Expected data (for a fair die, each face should have equal probability)\n",
        "expected = np.array([10, 10, 10, 10, 10, 10])\n",
        "\n",
        "# Perform the Chi-Square goodness-of-fit test\n",
        "chi2_stat, p_value = chisquare(observed, expected)\n",
        "\n",
        "# Output the results\n",
        "print(f\"Chi-Square Statistic: {chi2_stat}\")\n",
        "print(f\"P-Value: {p_value}\")\n",
        "\n",
        "# Interpret the result\n",
        "if p_value < 0.05:\n",
        "    print(\"Reject the null hypothesis: There is a significant difference between observed and expected frequencies.\")\n",
        "else:\n",
        "    print(\"Fail to reject the null hypothesis: No significant difference between observed and expected frequencies.\")"
      ],
      "metadata": {
        "colab": {
          "base_uri": "https://localhost:8080/"
        },
        "id": "EdUIY-8hyzh8",
        "outputId": "80e83c19-1745-4dcd-b28f-f869dba4fd16"
      },
      "execution_count": 18,
      "outputs": [
        {
          "output_type": "stream",
          "name": "stdout",
          "text": [
            "Chi-Square Statistic: 1.0\n",
            "P-Value: 0.9625657732472964\n",
            "Fail to reject the null hypothesis: No significant difference between observed and expected frequencies.\n"
          ]
        }
      ]
    },
    {
      "cell_type": "markdown",
      "source": [
        "Q15 -  Create a Python script to simulate and visualize the Chi-square distribution and discuss its characteristics?"
      ],
      "metadata": {
        "id": "XYfBoQK8yz8F"
      }
    },
    {
      "cell_type": "code",
      "source": [
        "#Ans 15\n",
        "\n",
        "import numpy as np\n",
        "import matplotlib.pyplot as plt\n",
        "import seaborn as sns\n",
        "from scipy.stats import chi2\n",
        "\n",
        "# Set the number of samples\n",
        "num_samples = 10000\n",
        "\n",
        "# Degrees of freedom for the Chi-square distribution\n",
        "dfs = [1, 2, 5, 10, 30]  # Different degrees of freedom to compare\n",
        "\n",
        "# Create a plot to visualize the distributions\n",
        "plt.figure(figsize=(10, 6))\n",
        "\n",
        "# Loop over different degrees of freedom\n",
        "for df in dfs:\n",
        "    # Generate random samples from the Chi-square distribution\n",
        "    chi_square_samples = np.random.chisquare(df, num_samples)\n",
        "\n",
        "    # Plot the histogram\n",
        "    sns.histplot(chi_square_samples, kde=True, stat=\"density\", label=f\"df={df}\", bins=30)\n",
        "\n",
        "# Customize the plot\n",
        "plt.title(\"Chi-square Distribution for Different Degrees of Freedom\")\n",
        "plt.xlabel(\"Value\")\n",
        "plt.ylabel(\"Density\")\n",
        "plt.legend(title=\"Degrees of Freedom\")\n",
        "plt.grid(True)\n",
        "plt.show()\n",
        "\n",
        "# Additional: Plot the theoretical Chi-square PDF for comparison\n",
        "x = np.linspace(0, 30, 1000)\n",
        "plt.figure(figsize=(10, 6))\n",
        "\n",
        "for df in dfs:\n",
        "    # Calculate the PDF of the Chi-square distribution\n",
        "    y = chi2.pdf(x, df)\n",
        "    plt.plot(x, y, label=f\"df={df}\")\n",
        "\n",
        "# Customize the theoretical plot\n",
        "plt.title(\"Chi-square Distribution PDFs for Different Degrees of Freedom\")\n",
        "plt.xlabel(\"Value\")\n",
        "plt.ylabel(\"Probability Density\")\n",
        "plt.legend(title=\"Degrees of Freedom\")\n",
        "plt.grid(True)\n",
        "plt.show()"
      ],
      "metadata": {
        "colab": {
          "base_uri": "https://localhost:8080/",
          "height": 1000
        },
        "id": "aeyEyPnOy398",
        "outputId": "3fecf728-2422-4ac3-b1b4-7121104ec378"
      },
      "execution_count": 19,
      "outputs": [
        {
          "output_type": "display_data",
          "data": {
            "text/plain": [
              "<Figure size 1000x600 with 1 Axes>"
            ],
            "image/png": "[encoded data removed]"
          },
          "metadata": {}
        },
        {
          "output_type": "display_data",
          "data": {
            "text/plain": [
              "<Figure size 1000x600 with 1 Axes>"
            ],
            "image/png": "[encoded data removed]"
          },
          "metadata": {}
        }
      ]
    },
    {
      "cell_type": "markdown",
      "source": [
        "Q16 -  Implement an F-test using Python to compare the variances of two random samples?"
      ],
      "metadata": {
        "id": "EtHBrabiy4lG"
      }
    },
    {
      "cell_type": "code",
      "source": [
        "#Ans 16\n",
        "\n",
        "import numpy as np\n",
        "from scipy import stats\n",
        "\n",
        "# Sample data\n",
        "sample1 = np.random.normal(0, 1, 100)  # Sample 1: Mean 0, Std Dev 1, 100 data points\n",
        "sample2 = np.random.normal(0, 2, 100)  # Sample 2: Mean 0, Std Dev 2, 100 data points\n",
        "\n",
        "# Step 1: Calculate the variances\n",
        "var1 = np.var(sample1, ddof=1)  # Sample variance for sample1\n",
        "var2 = np.var(sample2, ddof=1)  # Sample variance for sample2\n",
        "\n",
        "# Step 2: Calculate the F-statistic\n",
        "f_statistic = var1 / var2 if var1 >= var2 else var2 / var1\n",
        "\n",
        "# Step 3: Degrees of freedom\n",
        "df1 = len(sample1) - 1  # Degrees of freedom for sample 1\n",
        "df2 = len(sample2) - 1  # Degrees of freedom for sample 2\n",
        "\n",
        "# Step 4: Calculate the p-value using the F-distribution\n",
        "p_value = 1 - stats.f.cdf(f_statistic, df1, df2)\n",
        "\n",
        "# Output the results\n",
        "print(f\"Variance of Sample 1: {var1}\")\n",
        "print(f\"Variance of Sample 2: {var2}\")\n",
        "print(f\"F-statistic: {f_statistic}\")\n",
        "print(f\"P-value: {p_value}\")\n",
        "\n",
        "# Step 5: Decision (typically using alpha = 0.05 for significance level)\n",
        "alpha = 0.05\n",
        "if p_value < alpha:\n",
        "    print(\"Reject the null hypothesis: The variances are significantly different.\")\n",
        "else:\n",
        "    print(\"Fail to reject the null hypothesis: The variances are not significantly different.\")"
      ],
      "metadata": {
        "colab": {
          "base_uri": "https://localhost:8080/"
        },
        "id": "twabxhimy_zT",
        "outputId": "1374f249-a97a-46a9-d4b6-816b91f494c6"
      },
      "execution_count": 20,
      "outputs": [
        {
          "output_type": "stream",
          "name": "stdout",
          "text": [
            "Variance of Sample 1: 1.0116759914373739\n",
            "Variance of Sample 2: 3.605431356516029\n",
            "F-statistic: 3.5638202221182365\n",
            "P-value: 4.918510043694369e-10\n",
            "Reject the null hypothesis: The variances are significantly different.\n"
          ]
        }
      ]
    },
    {
      "cell_type": "markdown",
      "source": [
        "Q17 - Write a Python program to perform an ANOVA test to compare means between multiple groups and interpret the results?"
      ],
      "metadata": {
        "id": "yU7YbCHSzCBf"
      }
    },
    {
      "cell_type": "code",
      "source": [
        "#Ans 17\n",
        "\n",
        "import numpy as np\n",
        "import pandas as pd\n",
        "from scipy import stats\n",
        "\n",
        "# Example Data: Let's assume we have three different groups and their corresponding values\n",
        "group1 = [23, 21, 19, 24, 30]\n",
        "group2 = [35, 38, 33, 36, 40]\n",
        "group3 = [42, 45, 50, 43, 47]\n",
        "\n",
        "# Combine data into a DataFrame (optional, for better visualization)\n",
        "data = pd.DataFrame({'Group 1': group1, 'Group 2': group2, 'Group 3': group3})\n",
        "\n",
        "# Perform ANOVA test\n",
        "f_statistic, p_value = stats.f_oneway(group1, group2, group3)\n",
        "\n",
        "# Print the results\n",
        "print(f\"F-statistic: {f_statistic}\")\n",
        "print(f\"P-value: {p_value}\")\n",
        "\n",
        "# Interpret the results\n",
        "alpha = 0.05  # Common significance level\n",
        "\n",
        "if p_value < alpha:\n",
        "    print(\"Reject the null hypothesis: There is a significant difference between the group means.\")\n",
        "else:\n",
        "    print(\"Fail to reject the null hypothesis: There is no significant difference between the group means.\")"
      ],
      "metadata": {
        "colab": {
          "base_uri": "https://localhost:8080/"
        },
        "id": "oxRewtg4zIhO",
        "outputId": "cbb3b6d1-1eb1-4af7-bc43-333afe9324dd"
      },
      "execution_count": 21,
      "outputs": [
        {
          "output_type": "stream",
          "name": "stdout",
          "text": [
            "F-statistic: 52.57879656160452\n",
            "P-value: 1.154688472967427e-06\n",
            "Reject the null hypothesis: There is a significant difference between the group means.\n"
          ]
        }
      ]
    },
    {
      "cell_type": "markdown",
      "source": [
        "Q18 -  Perform a one-way ANOVA test using Python to compare the means of different groups and plot the results?"
      ],
      "metadata": {
        "id": "KLe8KfO0zI6M"
      }
    },
    {
      "cell_type": "code",
      "source": [
        "#Ans 18\n",
        "\n",
        "import numpy as np\n",
        "import scipy.stats as stats\n",
        "import matplotlib.pyplot as plt\n",
        "import seaborn as sns\n",
        "\n",
        "# Generating sample data for three groups\n",
        "np.random.seed(0)\n",
        "group1 = np.random.normal(loc=50, scale=10, size=30)  # Group 1 (mean=50, std=10)\n",
        "group2 = np.random.normal(loc=55, scale=10, size=30)  # Group 2 (mean=55, std=10)\n",
        "group3 = np.random.normal(loc=60, scale=10, size=30)  # Group 3 (mean=60, std=10)\n",
        "\n",
        "# Perform one-way ANOVA\n",
        "f_stat, p_value = stats.f_oneway(group1, group2, group3)\n",
        "\n",
        "# Output the results\n",
        "print(f\"F-statistic: {f_stat}\")\n",
        "print(f\"P-value: {p_value}\")\n",
        "\n",
        "# Plotting the data\n",
        "plt.figure(figsize=(8, 6))\n",
        "sns.boxplot(data=[group1, group2, group3], notch=True)\n",
        "plt.xticks([0, 1, 2], ['Group 1', 'Group 2', 'Group 3'])\n",
        "plt.title('One-Way ANOVA Test Results')\n",
        "plt.xlabel('Group')\n",
        "plt.ylabel('Value')\n",
        "plt.show()\n",
        "\n",
        "# Interpretation of results\n",
        "if p_value < 0.05:\n",
        "    print(\"There is a significant difference between the groups.\")\n",
        "else:\n",
        "    print(\"There is no significant difference between the groups.\")"
      ],
      "metadata": {
        "colab": {
          "base_uri": "https://localhost:8080/",
          "height": 616
        },
        "id": "lXrktvuFzNOr",
        "outputId": "258db8b1-89dd-40b5-fd81-992a3577e16e"
      },
      "execution_count": 22,
      "outputs": [
        {
          "output_type": "stream",
          "name": "stdout",
          "text": [
            "F-statistic: 3.3414606706069834\n",
            "P-value: 0.039981492411499175\n"
          ]
        },
        {
          "output_type": "display_data",
          "data": {
            "text/plain": [
              "<Figure size 800x600 with 1 Axes>"
            ],
            "image/png": "[encoded data removed]"
          },
          "metadata": {}
        },
        {
          "output_type": "stream",
          "name": "stdout",
          "text": [
            "There is a significant difference between the groups.\n"
          ]
        }
      ]
    },
    {
      "cell_type": "markdown",
      "source": [
        "Q19 -  Write a Python function to check the assumptions (normality, independence, and equal variance) for ANOVA?"
      ],
      "metadata": {
        "id": "FiqmTX8uzNux"
      }
    },
    {
      "cell_type": "code",
      "source": [
        "#Ans 19\n",
        "\n",
        "import numpy as np\n",
        "import matplotlib.pyplot as plt\n",
        "import seaborn as sns\n",
        "import scipy.stats as stats\n",
        "from statsmodels.stats.api import AnovaRM\n",
        "\n",
        "def check_anova_assumptions(data, group_column, value_column):\n",
        "    \"\"\"\n",
        "    Check the assumptions of ANOVA (normality, independence, and equal variance).\n",
        "\n",
        "    Parameters:\n",
        "    - data: A pandas DataFrame containing the data.\n",
        "    - group_column: The name of the column containing the group labels.\n",
        "    - value_column: The name of the column containing the values to be analyzed.\n",
        "\n",
        "    Returns:\n",
        "    - A summary of the assumption checks.\n",
        "    \"\"\"\n",
        "\n",
        "    # Checking normality assumption using Q-Q plot and Shapiro-Wilk test\n",
        "    groups = data[group_column].unique()\n",
        "\n",
        "    for group in groups:\n",
        "        group_data = data[data[group_column] == group][value_column]\n",
        "\n",
        "        # Q-Q plot\n",
        "        plt.figure(figsize=(6, 6))\n",
        "        stats.probplot(group_data, dist=\"norm\", plot=plt)\n",
        "        plt.title(f\"Q-Q Plot for Group: {group}\")\n",
        "        plt.show()\n",
        "\n",
        "        # Shapiro-Wilk test for normality\n",
        "        stat, p_value = stats.shapiro(group_data)\n",
        "        print(f\"Shapiro-Wilk Test for Normality (Group {group}): Stat={stat:.3f}, p-value={p_value:.3f}\")\n",
        "        if p_value < 0.05:\n",
        "            print(f\"Group {group}: The data is not normally distributed.\\n\")\n",
        "        else:\n",
        "            print(f\"Group {group}: The data is normally distributed.\\n\")\n",
        "\n",
        "    # Checking independence assumption\n",
        "    # Independence is typically assumed based on study design, so this part may be skipped or documented.\n",
        "    print(\"Independence assumption is assumed based on study design.\\n\")\n",
        "\n",
        "    # Checking equal variance assumption using Levene's Test\n",
        "    print(\"Levene's Test for Equality of Variances:\")\n",
        "    stat, p_value = stats.levene(*[data[data[group_column] == group][value_column] for group in groups])\n",
        "    print(f\"Levene's Test: Stat={stat:.3f}, p-value={p_value:.3f}\")\n",
        "    if p_value < 0.05:\n",
        "        print(\"The variances are significantly different (i.e., unequal variances).\\n\")\n",
        "    else:\n",
        "        print(\"The variances are equal across groups.\\n\")\n",
        "\n",
        "    # Visual check for equal variance\n",
        "    plt.figure(figsize=(6, 6))\n",
        "    sns.boxplot(x=group_column, y=value_column, data=data)\n",
        "    plt.title(\"Boxplot to Check for Equal Variances\")\n",
        "    plt.show()\n",
        "\n",
        "# Example usage:\n",
        "# Assuming `df` is a DataFrame with columns 'group' and 'value' where 'group' is the categorical group\n",
        "# and 'value' is the continuous variable you're analyzing.\n",
        "\n",
        "# check_anova_assumptions(df, 'group', 'value')"
      ],
      "metadata": {
        "id": "m19P9WaCzSL3"
      },
      "execution_count": 25,
      "outputs": []
    },
    {
      "cell_type": "markdown",
      "source": [
        "Q20 - Perform a two-way ANOVA test using Python to study the interaction between two factors and visualize the results?"
      ],
      "metadata": {
        "id": "g0n0ZFkLzSuz"
      }
    },
    {
      "cell_type": "code",
      "source": [
        "#Ans 20\n",
        "\n",
        "import pandas as pd\n",
        "import numpy as np\n",
        "import statsmodels.api as sm\n",
        "from statsmodels.formula.api import ols\n",
        "from statsmodels.stats.anova import anova_lm\n",
        "import matplotlib.pyplot as plt\n",
        "import seaborn as sns\n",
        "\n",
        "# Generating a synthetic dataset for demonstration\n",
        "np.random.seed(42)\n",
        "\n",
        "# Factor1 (e.g., Treatment Type A or B) - two levels\n",
        "factor1 = np.random.choice(['A', 'B'], size=100)\n",
        "\n",
        "# Factor2 (e.g., Time of Day: Morning or Evening) - two levels\n",
        "factor2 = np.random.choice(['Morning', 'Evening'], size=100)\n",
        "\n",
        "# Dependent variable: Score (randomly generated)\n",
        "score = np.random.normal(loc=50, scale=10, size=100) + \\\n",
        "        (factor1 == 'A') * 5 + (factor2 == 'Morning') * 3\n",
        "\n",
        "# Create a DataFrame\n",
        "data = pd.DataFrame({\n",
        "    'Factor1': factor1,\n",
        "    'Factor2': factor2,\n",
        "    'Score': score\n",
        "})\n",
        "\n",
        "# Perform Two-Way ANOVA\n",
        "model = ols('Score ~ C(Factor1) * C(Factor2)', data=data).fit()  # Factor1, Factor2 and their interaction\n",
        "anova_result = anova_lm(model)\n",
        "\n",
        "# Print the ANOVA results\n",
        "print(anova_result)\n",
        "\n",
        "# Visualizing interaction between factors\n",
        "plt.figure(figsize=(8, 6))\n",
        "sns.interactive()\n",
        "sns.boxplot(x='Factor1', y='Score', hue='Factor2', data=data)\n",
        "plt.title(\"Interaction between Factor1 and Factor2 on Score\")\n",
        "plt.show()"
      ],
      "metadata": {
        "colab": {
          "base_uri": "https://localhost:8080/",
          "height": 315
        },
        "id": "wmUi2YYAzZux",
        "outputId": "fcdb9bb2-55c8-4d90-9aa0-9f96682c08b6"
      },
      "execution_count": 26,
      "outputs": [
        {
          "output_type": "stream",
          "name": "stdout",
          "text": [
            "                         df       sum_sq     mean_sq         F    PR(>F)\n",
            "C(Factor1)              1.0   655.038060  655.038060  7.777404  0.006380\n",
            "C(Factor2)              1.0     4.282486    4.282486  0.050847  0.822076\n",
            "C(Factor1):C(Factor2)   1.0     0.948526    0.948526  0.011262  0.915706\n",
            "Residual               96.0  8085.429745   84.223227       NaN       NaN\n"
          ]
        },
        {
          "output_type": "error",
          "ename": "AttributeError",
          "evalue": "module 'seaborn' has no attribute 'interactive'",
          "traceback": [
            "\u001b[0;31m---------------------------------------------------------------------------\u001b[0m",
            "\u001b[0;31mAttributeError\u001b[0m                            Traceback (most recent call last)",
            "\u001b[0;32m<ipython-input-26-38c108911ab0>\u001b[0m in \u001b[0;36m<cell line: 0>\u001b[0;34m()\u001b[0m\n\u001b[1;32m     38\u001b[0m \u001b[0;31m# Visualizing interaction between factors\u001b[0m\u001b[0;34m\u001b[0m\u001b[0;34m\u001b[0m\u001b[0m\n\u001b[1;32m     39\u001b[0m \u001b[0mplt\u001b[0m\u001b[0;34m.\u001b[0m\u001b[0mfigure\u001b[0m\u001b[0;34m(\u001b[0m\u001b[0mfigsize\u001b[0m\u001b[0;34m=\u001b[0m\u001b[0;34m(\u001b[0m\u001b[0;36m8\u001b[0m\u001b[0;34m,\u001b[0m \u001b[0;36m6\u001b[0m\u001b[0;34m)\u001b[0m\u001b[0;34m)\u001b[0m\u001b[0;34m\u001b[0m\u001b[0;34m\u001b[0m\u001b[0m\n\u001b[0;32m---> 40\u001b[0;31m \u001b[0msns\u001b[0m\u001b[0;34m.\u001b[0m\u001b[0minteractive\u001b[0m\u001b[0;34m(\u001b[0m\u001b[0;34m)\u001b[0m\u001b[0;34m\u001b[0m\u001b[0;34m\u001b[0m\u001b[0m\n\u001b[0m\u001b[1;32m     41\u001b[0m \u001b[0msns\u001b[0m\u001b[0;34m.\u001b[0m\u001b[0mboxplot\u001b[0m\u001b[0;34m(\u001b[0m\u001b[0mx\u001b[0m\u001b[0;34m=\u001b[0m\u001b[0;34m'Factor1'\u001b[0m\u001b[0;34m,\u001b[0m \u001b[0my\u001b[0m\u001b[0;34m=\u001b[0m\u001b[0;34m'Score'\u001b[0m\u001b[0;34m,\u001b[0m \u001b[0mhue\u001b[0m\u001b[0;34m=\u001b[0m\u001b[0;34m'Factor2'\u001b[0m\u001b[0;34m,\u001b[0m \u001b[0mdata\u001b[0m\u001b[0;34m=\u001b[0m\u001b[0mdata\u001b[0m\u001b[0;34m)\u001b[0m\u001b[0;34m\u001b[0m\u001b[0;34m\u001b[0m\u001b[0m\n\u001b[1;32m     42\u001b[0m \u001b[0mplt\u001b[0m\u001b[0;34m.\u001b[0m\u001b[0mtitle\u001b[0m\u001b[0;34m(\u001b[0m\u001b[0;34m\"Interaction between Factor1 and Factor2 on Score\"\u001b[0m\u001b[0;34m)\u001b[0m\u001b[0;34m\u001b[0m\u001b[0;34m\u001b[0m\u001b[0m\n",
            "\u001b[0;31mAttributeError\u001b[0m: module 'seaborn' has no attribute 'interactive'"
          ]
        },
        {
          "output_type": "display_data",
          "data": {
            "text/plain": [
              "<Figure size 800x600 with 0 Axes>"
            ]
          },
          "metadata": {}
        }
      ]
    },
    {
      "cell_type": "markdown",
      "source": [
        "Q21 - Write a Python program to visualize the F-distribution and discuss its use in hypothesis testing?"
      ],
      "metadata": {
        "id": "56lq7QprzaSm"
      }
    },
    {
      "cell_type": "code",
      "source": [
        "#Ans 21\n",
        "\n",
        "import numpy as np\n",
        "import matplotlib.pyplot as plt\n",
        "from scipy.stats import f\n",
        "\n",
        "# Define degrees of freedom for numerator and denominator\n",
        "dfn = 5  # Degrees of freedom for the numerator\n",
        "dfd = 2  # Degrees of freedom for the denominator\n",
        "\n",
        "# Create a range of x values (F-statistic values)\n",
        "x = np.linspace(0, 5, 1000)\n",
        "\n",
        "# Compute the F-distribution PDF for each value of x\n",
        "y = f.pdf(x, dfn, dfd)\n",
        "\n",
        "# Plot the F-distribution\n",
        "plt.figure(figsize=(8, 5))\n",
        "plt.plot(x, y, label=f'F-distribution (dfn={dfn}, dfd={dfd})', color='b')\n",
        "\n",
        "# Add labels and title\n",
        "plt.title('F-distribution with dfn=5 and dfd=2')\n",
        "plt.xlabel('F-statistic (F)')\n",
        "plt.ylabel('Probability Density')\n",
        "plt.grid(True)\n",
        "plt.legend()\n",
        "\n",
        "# Show the plot\n",
        "plt.show()"
      ],
      "metadata": {
        "colab": {
          "base_uri": "https://localhost:8080/",
          "height": 487
        },
        "id": "EsJbZmrSzitN",
        "outputId": "6e281b60-138e-480e-995a-9e7551c5ef06"
      },
      "execution_count": 27,
      "outputs": [
        {
          "output_type": "display_data",
          "data": {
            "text/plain": [
              "<Figure size 800x500 with 1 Axes>"
            ],
            "image/png": "[encoded data removed]"
          },
          "metadata": {}
        }
      ]
    },
    {
      "cell_type": "markdown",
      "source": [
        "Q22 - Perform a one-way ANOVA test in Python and visualize the results with boxplots to compare group means?"
      ],
      "metadata": {
        "id": "8ktaywALzjTe"
      }
    },
    {
      "cell_type": "code",
      "source": [
        "#Ans 22\n",
        "\n",
        "import numpy as np\n",
        "import pandas as pd\n",
        "import seaborn as sns\n",
        "import matplotlib.pyplot as plt\n",
        "from scipy import stats\n",
        "\n",
        "# Create example data\n",
        "# Let's say we have three different groups and we want to compare their means\n",
        "group_1 = np.random.normal(loc=50, scale=10, size=30)  # Group 1\n",
        "group_2 = np.random.normal(loc=55, scale=10, size=30)  # Group 2\n",
        "group_3 = np.random.normal(loc=60, scale=10, size=30)  # Group 3\n",
        "\n",
        "# Combine the data into a DataFrame\n",
        "data = pd.DataFrame({\n",
        "    'value': np.concatenate([group_1, group_2, group_3]),\n",
        "    'group': ['Group 1']*30 + ['Group 2']*30 + ['Group 3']*30\n",
        "})\n",
        "\n",
        "# Perform One-Way ANOVA\n",
        "f_stat, p_value = stats.f_oneway(group_1, group_2, group_3)\n",
        "\n",
        "# Print the results of the ANOVA test\n",
        "print(f\"F-statistic: {f_stat}\")\n",
        "print(f\"P-value: {p_value}\")\n",
        "\n",
        "# If p-value < 0.05, we reject the null hypothesis, meaning at least one group mean is different\n",
        "\n",
        "# Visualize the results with a boxplot\n",
        "plt.figure(figsize=(8, 6))\n",
        "sns.boxplot(x='group', y='value', data=data)\n",
        "plt.title('Boxplot of Values by Group')\n",
        "plt.xlabel('Group')\n",
        "plt.ylabel('Value')\n",
        "plt.show()"
      ],
      "metadata": {
        "colab": {
          "base_uri": "https://localhost:8080/",
          "height": 599
        },
        "id": "nSad70NGzo95",
        "outputId": "861f819e-f595-4a78-f2a2-ab6b486160a2"
      },
      "execution_count": 28,
      "outputs": [
        {
          "output_type": "stream",
          "name": "stdout",
          "text": [
            "F-statistic: 5.0507323897082355\n",
            "P-value: 0.00840941919920987\n"
          ]
        },
        {
          "output_type": "display_data",
          "data": {
            "text/plain": [
              "<Figure size 800x600 with 1 Axes>"
            ],
            "image/png": "[encoded data removed]"
          },
          "metadata": {}
        }
      ]
    },
    {
      "cell_type": "markdown",
      "source": [
        "Q23 - Simulate random data from a normal distribution, then perform hypothesis testing to evaluate the means?"
      ],
      "metadata": {
        "id": "AHdoLE98zpWI"
      }
    },
    {
      "cell_type": "code",
      "source": [
        "#Ans 23\n",
        "\n",
        "import numpy as np\n",
        "from scipy import stats\n",
        "\n",
        "# Step 1: Simulate random data from a normal distribution\n",
        "np.random.seed(42)  # for reproducibility\n",
        "\n",
        "# Parameters for the normal distributions\n",
        "mean1, mean2 = 5, 7  # means of the two distributions\n",
        "std_dev1, std_dev2 = 1, 1  # standard deviations of the two distributions\n",
        "n1, n2 = 100, 100  # sample sizes\n",
        "\n",
        "# Generate random data\n",
        "data1 = np.random.normal(mean1, std_dev1, n1)\n",
        "data2 = np.random.normal(mean2, std_dev2, n2)\n",
        "\n",
        "# Step 2: Perform two-sample t-test\n",
        "t_stat, p_value = stats.ttest_ind(data1, data2)\n",
        "\n",
        "# Step 3: Interpret the result\n",
        "alpha = 0.05  # significance level\n",
        "if p_value < alpha:\n",
        "    result = \"Reject the null hypothesis: the means are significantly different.\"\n",
        "else:\n",
        "    result = \"Fail to reject the null hypothesis: the means are not significantly different.\"\n",
        "\n",
        "# Output the results\n",
        "t_stat, p_value, result"
      ],
      "metadata": {
        "colab": {
          "base_uri": "https://localhost:8080/"
        },
        "id": "B0DwwWJ5ztoO",
        "outputId": "3e5d6f6a-52b8-4aa5-bba7-083643686efc"
      },
      "execution_count": 29,
      "outputs": [
        {
          "output_type": "execute_result",
          "data": {
            "text/plain": [
              "(np.float64(-16.144987942735632),\n",
              " np.float64(5.705993859932729e-38),\n",
              " 'Reject the null hypothesis: the means are significantly different.')"
            ]
          },
          "metadata": {},
          "execution_count": 29
        }
      ]
    },
    {
      "cell_type": "markdown",
      "source": [
        "Q24 - Perform a hypothesis test for population variance using a Chi-square distribution and interpret the results?"
      ],
      "metadata": {
        "id": "d1N2RVRczuCT"
      }
    },
    {
      "cell_type": "code",
      "source": [
        "#Ans 24\n",
        "\n",
        "import numpy as np\n",
        "import scipy.stats as stats\n",
        "\n",
        "# Sample data (for example, data about heights of 20 individuals)\n",
        "data = [167, 182, 176, 160, 155, 178, 172, 169, 181, 164,\n",
        "        170, 175, 168, 180, 173, 162, 171, 177, 179, 165]\n",
        "\n",
        "# Hypothesized population variance\n",
        "sigma_squared_0 = 25  # For example, hypothesized variance of 25\n",
        "\n",
        "# Step 1: Calculate sample statistics\n",
        "n = len(data)  # sample size\n",
        "sample_mean = np.mean(data)  # sample mean\n",
        "sample_variance = np.var(data, ddof=1)  # sample variance (with Bessel's correction)\n",
        "\n",
        "# Step 2: Compute the Chi-square test statistic\n",
        "chi_square_statistic = (n - 1) * sample_variance / sigma_squared_0\n",
        "\n",
        "# Step 3: Degrees of freedom\n",
        "df = n - 1  # degrees of freedom for Chi-square distribution\n",
        "\n",
        "# Step 4: Compute the p-value for the two-tailed test\n",
        "p_value = 2 * min(stats.chi2.cdf(chi_square_statistic, df), 1 - stats.chi2.cdf(chi_square_statistic, df))\n",
        "\n",
        "# Step 5: Set the significance level\n",
        "alpha = 0.05  # significance level\n",
        "\n",
        "# Step 6: Conclusion\n",
        "if p_value < alpha:\n",
        "    result = \"Reject the null hypothesis: The population variance is different from the hypothesized value.\"\n",
        "else:\n",
        "    result = \"Fail to reject the null hypothesis: The population variance is equal to the hypothesized value.\"\n",
        "\n",
        "# Output the results\n",
        "print(f\"Sample Variance: {sample_variance:.2f}\")\n",
        "print(f\"Chi-square Statistic: {chi_square_statistic:.2f}\")\n",
        "print(f\"P-value: {p_value:.4f}\")\n",
        "print(result)"
      ],
      "metadata": {
        "colab": {
          "base_uri": "https://localhost:8080/"
        },
        "id": "X3f-ADSFz5yw",
        "outputId": "af535e23-3ae3-4752-b052-5fb9fb4fd211"
      },
      "execution_count": 30,
      "outputs": [
        {
          "output_type": "stream",
          "name": "stdout",
          "text": [
            "Sample Variance: 56.27\n",
            "Chi-square Statistic: 42.77\n",
            "P-value: 0.0028\n",
            "Reject the null hypothesis: The population variance is different from the hypothesized value.\n"
          ]
        }
      ]
    },
    {
      "cell_type": "markdown",
      "source": [
        "Q25 - Write a Python script to perform a Z-test for comparing proportions between two datasets or groups?"
      ],
      "metadata": {
        "id": "Q006qFqQz6MT"
      }
    },
    {
      "cell_type": "code",
      "source": [
        "#Ans 25\n",
        "\n",
        "import math\n",
        "from scipy.stats import norm\n",
        "\n",
        "def z_test_proportions(x1, n1, x2, n2, alpha=0.05):\n",
        "    # Calculate proportions\n",
        "    p1 = x1 / n1\n",
        "    p2 = x2 / n2\n",
        "\n",
        "    # Pooled proportion\n",
        "    pooled_proportion = (x1 + x2) / (n1 + n2)\n",
        "\n",
        "    # Standard error of the difference in proportions\n",
        "    se = math.sqrt(pooled_proportion * (1 - pooled_proportion) * (1/n1 + 1/n2))\n",
        "\n",
        "    # Z statistic\n",
        "    z = (p1 - p2) / se\n",
        "\n",
        "    # Calculate p-value from Z statistic\n",
        "    p_value = 2 * (1 - norm.cdf(abs(z)))  # Two-tailed test\n",
        "\n",
        "    # Print results\n",
        "    print(f'Z-statistic: {z:.4f}')\n",
        "    print(f'P-value: {p_value:.4f}')\n",
        "\n",
        "    # Conclusion based on p-value and alpha\n",
        "    if p_value < alpha:\n",
        "        print(\"Reject the null hypothesis: There is a significant difference between the proportions.\")\n",
        "    else:\n",
        "        print(\"Fail to reject the null hypothesis: There is no significant difference between the proportions.\")\n",
        "\n",
        "# Example usage:\n",
        "# Group 1: 45 successes out of 100 trials\n",
        "# Group 2: 30 successes out of 120 trials\n",
        "x1 = 45\n",
        "n1 = 100\n",
        "x2 = 30\n",
        "n2 = 120\n",
        "\n",
        "z_test_proportions(x1, n1, x2, n2)"
      ],
      "metadata": {
        "colab": {
          "base_uri": "https://localhost:8080/"
        },
        "id": "6dNb-Bcsz-ru",
        "outputId": "2e5aa3b6-b662-41a4-deeb-c9c7da6d2767"
      },
      "execution_count": 31,
      "outputs": [
        {
          "output_type": "stream",
          "name": "stdout",
          "text": [
            "Z-statistic: 3.1161\n",
            "P-value: 0.0018\n",
            "Reject the null hypothesis: There is a significant difference between the proportions.\n"
          ]
        }
      ]
    },
    {
      "cell_type": "markdown",
      "source": [
        "Q26 - Implement an F-test for comparing the variances of two datasets, then interpret and visualize the results?"
      ],
      "metadata": {
        "id": "2IVooC82z_HT"
      }
    },
    {
      "cell_type": "code",
      "source": [
        "#Ans 26\n",
        "\n",
        "import numpy as np\n",
        "import scipy.stats as stats\n",
        "import matplotlib.pyplot as plt\n",
        "\n",
        "# Sample datasets\n",
        "data1 = np.array([10, 12, 14, 16, 18, 20])\n",
        "data2 = np.array([25, 27, 29, 31, 33, 35, 37])\n",
        "\n",
        "# Step 1: Calculate sample variances\n",
        "var1 = np.var(data1, ddof=1)\n",
        "var2 = np.var(data2, ddof=1)\n",
        "\n",
        "# Step 2: Calculate the F-statistic (the ratio of variances)\n",
        "F_stat = var1 / var2 if var1 > var2 else var2 / var1\n",
        "\n",
        "# Step 3: Calculate degrees of freedom\n",
        "n1, n2 = len(data1), len(data2)\n",
        "df1 = n1 - 1\n",
        "df2 = n2 - 1\n",
        "\n",
        "# Step 4: Calculate the critical F-value for a two-tailed test\n",
        "alpha = 0.05\n",
        "F_critical = stats.f.ppf(1 - alpha/2, df1, df2)\n",
        "\n",
        "# Step 5: Compare F-statistic with critical value\n",
        "print(f\"F-statistic: {F_stat}\")\n",
        "print(f\"Critical F-value: {F_critical}\")\n",
        "\n",
        "if F_stat > F_critical:\n",
        "    print(\"Reject the null hypothesis: The variances are significantly different.\")\n",
        "else:\n",
        "    print(\"Fail to reject the null hypothesis: The variances are not significantly different.\")\n",
        "\n",
        "# Visualization of the F-distribution and critical region\n",
        "x = np.linspace(0, 5, 500)\n",
        "y = stats.f.pdf(x, df1, df2)\n",
        "\n",
        "plt.plot(x, y, label='F-distribution')\n",
        "plt.fill_between(x, y, where=(x > F_critical), color='red', alpha=0.5, label=\"Critical region\")\n",
        "plt.axvline(F_stat, color='green', linestyle='--', label=f\"F-statistic: {F_stat:.2f}\")\n",
        "plt.title(\"F-Test for Comparing Variances\")\n",
        "plt.xlabel(\"F-value\")\n",
        "plt.ylabel(\"Density\")\n",
        "plt.legend()\n",
        "plt.show()"
      ],
      "metadata": {
        "colab": {
          "base_uri": "https://localhost:8080/",
          "height": 524
        },
        "id": "6zSYjOOp0DdK",
        "outputId": "0ff7e403-d56c-42dc-e786-ee6ba763786e"
      },
      "execution_count": 32,
      "outputs": [
        {
          "output_type": "stream",
          "name": "stdout",
          "text": [
            "F-statistic: 1.3333333333333335\n",
            "Critical F-value: 5.987565126046928\n",
            "Fail to reject the null hypothesis: The variances are not significantly different.\n"
          ]
        },
        {
          "output_type": "display_data",
          "data": {
            "text/plain": [
              "<Figure size 640x480 with 1 Axes>"
            ],
            "image/png": "[encoded data removed]"
          },
          "metadata": {}
        }
      ]
    },
    {
      "cell_type": "markdown",
      "source": [
        "Q27 - Perform a Chi-square test for goodness of fit with simulated data and analyze the results?"
      ],
      "metadata": {
        "id": "pvK8BOzm0D7I"
      }
    },
    {
      "cell_type": "code",
      "source": [
        "#Ans 27\n",
        "\n",
        "import numpy as np\n",
        "import scipy.stats as stats\n",
        "\n",
        "# Simulating data\n",
        "np.random.seed(42)  # For reproducibility\n",
        "\n",
        "# Expected proportions\n",
        "expected_proportions = [0.4, 0.3, 0.2, 0.1]\n",
        "categories = ['Apple', 'Banana', 'Orange', 'Grapes']\n",
        "total_sample_size = 200\n",
        "\n",
        "# Simulate observed frequencies based on expected proportions\n",
        "observed_frequencies = np.random.multinomial(total_sample_size, expected_proportions)\n",
        "\n",
        "# Calculate expected frequencies\n",
        "expected_frequencies = np.array(expected_proportions) * total_sample_size\n",
        "\n",
        "# Perform Chi-square test\n",
        "chi2_stat, p_value = stats.chisquare(observed_frequencies, expected_frequencies)\n",
        "\n",
        "observed_frequencies, expected_frequencies, chi2_stat, p_value"
      ],
      "metadata": {
        "colab": {
          "base_uri": "https://localhost:8080/"
        },
        "id": "VXOn5Sqa8bJq",
        "outputId": "212935b9-697c-4dcd-d37a-24f382717de2"
      },
      "execution_count": 33,
      "outputs": [
        {
          "output_type": "execute_result",
          "data": {
            "text/plain": [
              "(array([77, 64, 45, 14]),\n",
              " array([80., 60., 40., 20.]),\n",
              " np.float64(2.8041666666666667),\n",
              " np.float64(0.4228144687686234))"
            ]
          },
          "metadata": {},
          "execution_count": 33
        }
      ]
    }
  ]
}